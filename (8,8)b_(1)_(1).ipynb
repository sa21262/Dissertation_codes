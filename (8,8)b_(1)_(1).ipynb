{
  "nbformat": 4,
  "nbformat_minor": 0,
  "metadata": {
    "colab": {
      "name": "(8,8)b_(1)_(1).ipynb",
      "provenance": [],
      "collapsed_sections": []
    },
    "kernelspec": {
      "name": "python3",
      "display_name": "Python 3"
    },
    "language_info": {
      "name": "python"
    }
  },
  "cells": [
    {
      "cell_type": "markdown",
      "source": [
        "# Required Libraries  "
      ],
      "metadata": {
        "id": "CW8m7EYH-NH6"
      }
    },
    {
      "cell_type": "code",
      "execution_count": 1,
      "metadata": {
        "id": "rpECXu6zYkIF"
      },
      "outputs": [],
      "source": [
        "import numpy as np\n",
        "import tensorflow as tf\n",
        "import keras\n",
        "from keras.layers import Input, Dense, GaussianNoise,Lambda\n",
        "from keras.models import Model\n",
        "from keras import backend as K\n",
        "%matplotlib inline\n",
        "import matplotlib.pyplot as plt\n",
        "from tensorflow.keras.layers import BatchNormalization\n",
        "from tensorflow.keras.optimizers import Adam\n",
        "from keras.models import load_model\n",
        "from keras.constraints import max_norm \n",
        "from numpy.random import seed\n",
        "seed(1)\n",
        "from tensorflow.keras.utils import set_random_seed\n",
        "set_random_seed(3)                                                 \n",
        "from scipy import interpolate\n",
        "from sklearn.manifold import TSNE\n"
      ]
    },
    {
      "cell_type": "markdown",
      "source": [
        "# Parameters Declaration \n",
        "Lenght of Message space, Number of bits per symbol, number of channel uses\n",
        "and Rate of communication is defined here. "
      ],
      "metadata": {
        "id": "2zTzktIN_LAj"
      }
    },
    {
      "cell_type": "code",
      "source": [
        "L_o_m  = 256                                     # Lenght of Message space(M) given by 2^number of bits \n",
        "bits = np.log2(L_o_m)                            # Number of bits \n",
        "bits = int(bits)                                 # Converting it to int \n",
        "n = 8                                            # Number of channels(n) \n",
        "R = bits/n                                       # Communication rate(R) given by number of bits divided by number of channels \n",
        "\n",
        "print ('Lenght of Message space (M):',L_o_m,'Number of bits (k):',bits,'Number of channels (n):',n)"
      ],
      "metadata": {
        "colab": {
          "base_uri": "https://localhost:8080/"
        },
        "id": "UqlokJnxa0P-",
        "outputId": "0651d7ec-ec69-4b94-cb23-03e9f7e819d5"
      },
      "execution_count": 2,
      "outputs": [
        {
          "output_type": "stream",
          "name": "stdout",
          "text": [
            "Lenght of Message space (M): 256 Number of bits (k): 8 Number of channels (n): 8\n"
          ]
        }
      ]
    },
    {
      "cell_type": "markdown",
      "source": [
        "# Generating training data"
      ],
      "metadata": {
        "id": "rHe_SSueADk9"
      }
    },
    {
      "cell_type": "code",
      "source": [
        "samples = 100000\n",
        "labels = np.random.randint(L_o_m , size=samples)        # generating N random numbers whose values are enclosed between 0 and (M-1)"
      ],
      "metadata": {
        "id": "01xhM5MWa4Jl"
      },
      "execution_count": 3,
      "outputs": []
    },
    {
      "cell_type": "markdown",
      "source": [
        "# Performing Onehot Encoding\n",
        "Each of the message in generated message space is onehot encoded. "
      ],
      "metadata": {
        "id": "TJPJNPzJAko9"
      }
    },
    {
      "cell_type": "code",
      "source": [
        "training_data = []                              # Creating a empty list \n",
        "for i in labels:                         \n",
        "    inp_vector = np.zeros(L_o_m)                # Creating a numpy array of size M                                                    \n",
        "    inp_vector[i] = 1                           # Performing one hot encoding \n",
        "    training_data.append(inp_vector) \n",
        "\n"
      ],
      "metadata": {
        "id": "fZA-OwDvboBl"
      },
      "execution_count": 4,
      "outputs": []
    },
    {
      "cell_type": "code",
      "source": [
        "training_data = np.array(training_data)         # Transforming data to numpy array\n",
        "print (training_data.shape)                     # Each of the sample out of the N generated samples is onehot encoded to vector of size M "
      ],
      "metadata": {
        "colab": {
          "base_uri": "https://localhost:8080/"
        },
        "id": "_ppnpj4ubrsF",
        "outputId": "1937141a-b9e7-44cb-c4a3-7c7114d6bbf7"
      },
      "execution_count": 5,
      "outputs": [
        {
          "output_type": "stream",
          "name": "stdout",
          "text": [
            "(100000, 256)\n"
          ]
        }
      ]
    },
    {
      "cell_type": "markdown",
      "source": [
        "Verifying the one hot encoding performed on the generated data.  \n"
      ],
      "metadata": {
        "id": "diWa01MlD-ic"
      }
    },
    {
      "cell_type": "code",
      "source": [
        "check_list = [23,45,97]\n",
        "for i in check_list:\n",
        "    print(labels[i],training_data[i])"
      ],
      "metadata": {
        "colab": {
          "base_uri": "https://localhost:8080/"
        },
        "id": "SwwdatTObvhc",
        "outputId": "41c767cc-6b57-4db1-d1bf-9d7d2127c508"
      },
      "execution_count": 6,
      "outputs": [
        {
          "output_type": "stream",
          "name": "stdout",
          "text": [
            "142 [0. 0. 0. 0. 0. 0. 0. 0. 0. 0. 0. 0. 0. 0. 0. 0. 0. 0. 0. 0. 0. 0. 0. 0.\n",
            " 0. 0. 0. 0. 0. 0. 0. 0. 0. 0. 0. 0. 0. 0. 0. 0. 0. 0. 0. 0. 0. 0. 0. 0.\n",
            " 0. 0. 0. 0. 0. 0. 0. 0. 0. 0. 0. 0. 0. 0. 0. 0. 0. 0. 0. 0. 0. 0. 0. 0.\n",
            " 0. 0. 0. 0. 0. 0. 0. 0. 0. 0. 0. 0. 0. 0. 0. 0. 0. 0. 0. 0. 0. 0. 0. 0.\n",
            " 0. 0. 0. 0. 0. 0. 0. 0. 0. 0. 0. 0. 0. 0. 0. 0. 0. 0. 0. 0. 0. 0. 0. 0.\n",
            " 0. 0. 0. 0. 0. 0. 0. 0. 0. 0. 0. 0. 0. 0. 0. 0. 0. 0. 0. 0. 0. 0. 1. 0.\n",
            " 0. 0. 0. 0. 0. 0. 0. 0. 0. 0. 0. 0. 0. 0. 0. 0. 0. 0. 0. 0. 0. 0. 0. 0.\n",
            " 0. 0. 0. 0. 0. 0. 0. 0. 0. 0. 0. 0. 0. 0. 0. 0. 0. 0. 0. 0. 0. 0. 0. 0.\n",
            " 0. 0. 0. 0. 0. 0. 0. 0. 0. 0. 0. 0. 0. 0. 0. 0. 0. 0. 0. 0. 0. 0. 0. 0.\n",
            " 0. 0. 0. 0. 0. 0. 0. 0. 0. 0. 0. 0. 0. 0. 0. 0. 0. 0. 0. 0. 0. 0. 0. 0.\n",
            " 0. 0. 0. 0. 0. 0. 0. 0. 0. 0. 0. 0. 0. 0. 0. 0.]\n",
            "7 [0. 0. 0. 0. 0. 0. 0. 1. 0. 0. 0. 0. 0. 0. 0. 0. 0. 0. 0. 0. 0. 0. 0. 0.\n",
            " 0. 0. 0. 0. 0. 0. 0. 0. 0. 0. 0. 0. 0. 0. 0. 0. 0. 0. 0. 0. 0. 0. 0. 0.\n",
            " 0. 0. 0. 0. 0. 0. 0. 0. 0. 0. 0. 0. 0. 0. 0. 0. 0. 0. 0. 0. 0. 0. 0. 0.\n",
            " 0. 0. 0. 0. 0. 0. 0. 0. 0. 0. 0. 0. 0. 0. 0. 0. 0. 0. 0. 0. 0. 0. 0. 0.\n",
            " 0. 0. 0. 0. 0. 0. 0. 0. 0. 0. 0. 0. 0. 0. 0. 0. 0. 0. 0. 0. 0. 0. 0. 0.\n",
            " 0. 0. 0. 0. 0. 0. 0. 0. 0. 0. 0. 0. 0. 0. 0. 0. 0. 0. 0. 0. 0. 0. 0. 0.\n",
            " 0. 0. 0. 0. 0. 0. 0. 0. 0. 0. 0. 0. 0. 0. 0. 0. 0. 0. 0. 0. 0. 0. 0. 0.\n",
            " 0. 0. 0. 0. 0. 0. 0. 0. 0. 0. 0. 0. 0. 0. 0. 0. 0. 0. 0. 0. 0. 0. 0. 0.\n",
            " 0. 0. 0. 0. 0. 0. 0. 0. 0. 0. 0. 0. 0. 0. 0. 0. 0. 0. 0. 0. 0. 0. 0. 0.\n",
            " 0. 0. 0. 0. 0. 0. 0. 0. 0. 0. 0. 0. 0. 0. 0. 0. 0. 0. 0. 0. 0. 0. 0. 0.\n",
            " 0. 0. 0. 0. 0. 0. 0. 0. 0. 0. 0. 0. 0. 0. 0. 0.]\n",
            "96 [0. 0. 0. 0. 0. 0. 0. 0. 0. 0. 0. 0. 0. 0. 0. 0. 0. 0. 0. 0. 0. 0. 0. 0.\n",
            " 0. 0. 0. 0. 0. 0. 0. 0. 0. 0. 0. 0. 0. 0. 0. 0. 0. 0. 0. 0. 0. 0. 0. 0.\n",
            " 0. 0. 0. 0. 0. 0. 0. 0. 0. 0. 0. 0. 0. 0. 0. 0. 0. 0. 0. 0. 0. 0. 0. 0.\n",
            " 0. 0. 0. 0. 0. 0. 0. 0. 0. 0. 0. 0. 0. 0. 0. 0. 0. 0. 0. 0. 0. 0. 0. 0.\n",
            " 1. 0. 0. 0. 0. 0. 0. 0. 0. 0. 0. 0. 0. 0. 0. 0. 0. 0. 0. 0. 0. 0. 0. 0.\n",
            " 0. 0. 0. 0. 0. 0. 0. 0. 0. 0. 0. 0. 0. 0. 0. 0. 0. 0. 0. 0. 0. 0. 0. 0.\n",
            " 0. 0. 0. 0. 0. 0. 0. 0. 0. 0. 0. 0. 0. 0. 0. 0. 0. 0. 0. 0. 0. 0. 0. 0.\n",
            " 0. 0. 0. 0. 0. 0. 0. 0. 0. 0. 0. 0. 0. 0. 0. 0. 0. 0. 0. 0. 0. 0. 0. 0.\n",
            " 0. 0. 0. 0. 0. 0. 0. 0. 0. 0. 0. 0. 0. 0. 0. 0. 0. 0. 0. 0. 0. 0. 0. 0.\n",
            " 0. 0. 0. 0. 0. 0. 0. 0. 0. 0. 0. 0. 0. 0. 0. 0. 0. 0. 0. 0. 0. 0. 0. 0.\n",
            " 0. 0. 0. 0. 0. 0. 0. 0. 0. 0. 0. 0. 0. 0. 0. 0.]\n"
          ]
        }
      ]
    },
    {
      "cell_type": "markdown",
      "source": [
        "# Defining the architecture of Autoencoder"
      ],
      "metadata": {
        "id": "H2uQEQoIFBWw"
      }
    },
    {
      "cell_type": "code",
      "source": [
        "input_signal = Input(shape=(L_o_m,))                     # After performing one hot encoding each input is vector of size M\n",
        "encoded1 = Dense(L_o_m, activation='relu')(input_signal) # First layer is dense layer with relu activation function and M nuerons  \n",
        "encoded2 = Dense(n, activation='linear')(encoded1)       # Second layer is dense layer with linear activaton function and n_channel nuerons \n",
        "\n",
        "encoded3 = BatchNormalization()(encoded2)                # encoded3 = Lambda(lambda x: np.sqrt(n)*K.l2_normalize(x,axis=1))(encoded2)     \n",
        "                                                         # Normalisation is performed to met the physical constraints (Energy Constraint)\n",
        "\n",
        "\n",
        "EbNo_train = 5.01187                                     # coverted 7 db of EbNo\n",
        "                                                         # 10log(EbNo) = 7 db\n",
        "encoded4 = GaussianNoise(np.sqrt(1/(2*R*EbNo_train)))(encoded3)                 \n",
        "                                                         # As Variance is given by (1/(2*R*EbNo_train) \n",
        "                                                         # Gausian noise is added by this layer \n",
        "\n",
        "decoded1 = Dense(L_o_m, activation='relu')(encoded4)     # First layer of the decoder is dense layer with-\n",
        "                                                         #-relu activation function and total M nuerons\n",
        "\n",
        "decoded2 = Dense(L_o_m, activation='softmax')(decoded1)  # Second layer of the decoder is dense layer with-\n",
        "                                                         #-softmax activation function which outputs the probabilities \n",
        "\n",
        "\n",
        "autoencoder = Model(input_signal, decoded2)              # Autoencoder model is defined here \n",
        "adam = Adam(learning_rate=0.001)                         # Adam optimizer is used with learning rate 0.01 to minimise the loss \n",
        "\n",
        "autoencoder.compile(optimizer=adam, loss='categorical_crossentropy')            \n",
        "                                                         # Autoencoder is compiled here and loss is defined as categorical crossentropy-\n",
        "                                                         #-between the onehot encoded input vector and the output of the decoder "
      ],
      "metadata": {
        "id": "-FNphna1bxfk"
      },
      "execution_count": 7,
      "outputs": []
    },
    {
      "cell_type": "markdown",
      "source": [
        "# Summary of Autoencoder"
      ],
      "metadata": {
        "id": "7xS2b5trFX2r"
      }
    },
    {
      "cell_type": "code",
      "source": [
        "print (autoencoder.summary())"
      ],
      "metadata": {
        "colab": {
          "base_uri": "https://localhost:8080/"
        },
        "id": "4o2A_DywcfK1",
        "outputId": "21930495-2616-449c-a443-b2f1e119dca1"
      },
      "execution_count": 8,
      "outputs": [
        {
          "output_type": "stream",
          "name": "stdout",
          "text": [
            "Model: \"model\"\n",
            "_________________________________________________________________\n",
            " Layer (type)                Output Shape              Param #   \n",
            "=================================================================\n",
            " input_1 (InputLayer)        [(None, 256)]             0         \n",
            "                                                                 \n",
            " dense (Dense)               (None, 256)               65792     \n",
            "                                                                 \n",
            " dense_1 (Dense)             (None, 8)                 2056      \n",
            "                                                                 \n",
            " batch_normalization (BatchN  (None, 8)                32        \n",
            " ormalization)                                                   \n",
            "                                                                 \n",
            " gaussian_noise (GaussianNoi  (None, 8)                0         \n",
            " se)                                                             \n",
            "                                                                 \n",
            " dense_2 (Dense)             (None, 256)               2304      \n",
            "                                                                 \n",
            " dense_3 (Dense)             (None, 256)               65792     \n",
            "                                                                 \n",
            "=================================================================\n",
            "Total params: 135,976\n",
            "Trainable params: 135,960\n",
            "Non-trainable params: 16\n",
            "_________________________________________________________________\n",
            "None\n"
          ]
        }
      ]
    },
    {
      "cell_type": "markdown",
      "source": [
        "# Generating validation data "
      ],
      "metadata": {
        "id": "1zr1VftzNtaw"
      }
    },
    {
      "cell_type": "code",
      "source": [
        "v_samples = 10000                                    # Size of validation samples \n",
        "                                                     \n",
        "v_labels = np.random.randint(L_o_m,size=v_samples)   # Validation data of size N is created with all values enclosed between 0 and M\n",
        "v_data = []\n",
        "\n",
        "for i in v_labels:\n",
        "    v_vector = np.zeros(L_o_m)                       # Numpy array of size M is created with all entries equal to zero \n",
        "    v_vector[i] = 1                                  # performing One hot encoding on each entry of v_samples \n",
        "    v_data.append(v_vector)\n",
        "    \n",
        "v_data = np.array(v_data)                            # v_samples data is converted to numpy array \n",
        "print(v_data.shape)                                  # Shape of test_data is given by (v_samples*M)"
      ],
      "metadata": {
        "id": "1sMlQgCUdLvr",
        "colab": {
          "base_uri": "https://localhost:8080/"
        },
        "outputId": "f8efa4e0-f3a3-46f0-fa71-f0b1432b2e49"
      },
      "execution_count": 9,
      "outputs": [
        {
          "output_type": "stream",
          "name": "stdout",
          "text": [
            "(10000, 256)\n"
          ]
        }
      ]
    },
    {
      "cell_type": "code",
      "source": [
        "test_num = 89                                        # Verifying the onehot encoding on generated test data \n",
        "print (v_data[test_num],v_labels[test_num])"
      ],
      "metadata": {
        "colab": {
          "base_uri": "https://localhost:8080/"
        },
        "id": "pm9hoWPPdNVT",
        "outputId": "b1187a27-d7d2-471c-cc8f-e93113a17a2e"
      },
      "execution_count": 10,
      "outputs": [
        {
          "output_type": "stream",
          "name": "stdout",
          "text": [
            "[0. 0. 0. 0. 0. 0. 0. 0. 0. 0. 0. 0. 0. 0. 0. 0. 0. 1. 0. 0. 0. 0. 0. 0.\n",
            " 0. 0. 0. 0. 0. 0. 0. 0. 0. 0. 0. 0. 0. 0. 0. 0. 0. 0. 0. 0. 0. 0. 0. 0.\n",
            " 0. 0. 0. 0. 0. 0. 0. 0. 0. 0. 0. 0. 0. 0. 0. 0. 0. 0. 0. 0. 0. 0. 0. 0.\n",
            " 0. 0. 0. 0. 0. 0. 0. 0. 0. 0. 0. 0. 0. 0. 0. 0. 0. 0. 0. 0. 0. 0. 0. 0.\n",
            " 0. 0. 0. 0. 0. 0. 0. 0. 0. 0. 0. 0. 0. 0. 0. 0. 0. 0. 0. 0. 0. 0. 0. 0.\n",
            " 0. 0. 0. 0. 0. 0. 0. 0. 0. 0. 0. 0. 0. 0. 0. 0. 0. 0. 0. 0. 0. 0. 0. 0.\n",
            " 0. 0. 0. 0. 0. 0. 0. 0. 0. 0. 0. 0. 0. 0. 0. 0. 0. 0. 0. 0. 0. 0. 0. 0.\n",
            " 0. 0. 0. 0. 0. 0. 0. 0. 0. 0. 0. 0. 0. 0. 0. 0. 0. 0. 0. 0. 0. 0. 0. 0.\n",
            " 0. 0. 0. 0. 0. 0. 0. 0. 0. 0. 0. 0. 0. 0. 0. 0. 0. 0. 0. 0. 0. 0. 0. 0.\n",
            " 0. 0. 0. 0. 0. 0. 0. 0. 0. 0. 0. 0. 0. 0. 0. 0. 0. 0. 0. 0. 0. 0. 0. 0.\n",
            " 0. 0. 0. 0. 0. 0. 0. 0. 0. 0. 0. 0. 0. 0. 0. 0.] 17\n"
          ]
        }
      ]
    },
    {
      "cell_type": "markdown",
      "source": [
        "# Training the model "
      ],
      "metadata": {
        "id": "KsIqAPGUFjdr"
      }
    },
    {
      "cell_type": "code",
      "source": [
        "# Autoencoder is fitted with the generated data \n",
        "autoencoder.fit(training_data, training_data, epochs=20, batch_size=300,validation_data=(v_data, v_data))                                           "
      ],
      "metadata": {
        "colab": {
          "base_uri": "https://localhost:8080/"
        },
        "id": "5zk1GFPac4-M",
        "outputId": "ea85158b-5fcc-4150-a8fa-6979b224ce15"
      },
      "execution_count": 11,
      "outputs": [
        {
          "output_type": "stream",
          "name": "stdout",
          "text": [
            "Epoch 1/20\n",
            "334/334 [==============================] - 9s 21ms/step - loss: 1.3664 - val_loss: 0.0464\n",
            "Epoch 2/20\n",
            "334/334 [==============================] - 6s 18ms/step - loss: 0.0284 - val_loss: 0.0025\n",
            "Epoch 3/20\n",
            "334/334 [==============================] - 6s 17ms/step - loss: 0.0094 - val_loss: 8.3900e-04\n",
            "Epoch 4/20\n",
            "334/334 [==============================] - 6s 18ms/step - loss: 0.0048 - val_loss: 3.7970e-04\n",
            "Epoch 5/20\n",
            "334/334 [==============================] - 6s 19ms/step - loss: 0.0029 - val_loss: 2.0511e-04\n",
            "Epoch 6/20\n",
            "334/334 [==============================] - 4s 11ms/step - loss: 0.0020 - val_loss: 1.2687e-04\n",
            "Epoch 7/20\n",
            "334/334 [==============================] - 4s 11ms/step - loss: 0.0014 - val_loss: 7.6769e-05\n",
            "Epoch 8/20\n",
            "334/334 [==============================] - 4s 11ms/step - loss: 0.0011 - val_loss: 5.0475e-05\n",
            "Epoch 9/20\n",
            "334/334 [==============================] - 4s 11ms/step - loss: 8.0924e-04 - val_loss: 3.0824e-05\n",
            "Epoch 10/20\n",
            "334/334 [==============================] - 4s 11ms/step - loss: 6.0902e-04 - val_loss: 2.0573e-05\n",
            "Epoch 11/20\n",
            "334/334 [==============================] - 4s 11ms/step - loss: 5.3506e-04 - val_loss: 1.8563e-05\n",
            "Epoch 12/20\n",
            "334/334 [==============================] - 4s 11ms/step - loss: 4.1216e-04 - val_loss: 1.1414e-05\n",
            "Epoch 13/20\n",
            "334/334 [==============================] - 4s 11ms/step - loss: 4.4004e-04 - val_loss: 1.2261e-05\n",
            "Epoch 14/20\n",
            "334/334 [==============================] - 4s 11ms/step - loss: 4.2036e-04 - val_loss: 6.2818e-06\n",
            "Epoch 15/20\n",
            "334/334 [==============================] - 4s 11ms/step - loss: 2.6835e-04 - val_loss: 4.1353e-06\n",
            "Epoch 16/20\n",
            "334/334 [==============================] - 4s 11ms/step - loss: 2.6579e-04 - val_loss: 3.2119e-06\n",
            "Epoch 17/20\n",
            "334/334 [==============================] - 4s 11ms/step - loss: 2.3976e-04 - val_loss: 2.8353e-06\n",
            "Epoch 18/20\n",
            "334/334 [==============================] - 4s 11ms/step - loss: 2.6084e-04 - val_loss: 2.6378e-06\n",
            "Epoch 19/20\n",
            "334/334 [==============================] - 4s 11ms/step - loss: 1.7605e-04 - val_loss: 1.1071e-06\n",
            "Epoch 20/20\n",
            "334/334 [==============================] - 4s 11ms/step - loss: 1.2004e-04 - val_loss: 9.2658e-07\n"
          ]
        },
        {
          "output_type": "execute_result",
          "data": {
            "text/plain": [
              "<keras.callbacks.History at 0x7f239468f2d0>"
            ]
          },
          "metadata": {},
          "execution_count": 11
        }
      ]
    },
    {
      "cell_type": "markdown",
      "source": [
        "# Encoder"
      ],
      "metadata": {
        "id": "CBhIz2mNJHZe"
      }
    },
    {
      "cell_type": "code",
      "source": [
        "encoder = Model(input_signal, encoded3)                   # Model of Encoder is Defined here  "
      ],
      "metadata": {
        "id": "BYWkzH-JdD-z"
      },
      "execution_count": 12,
      "outputs": []
    },
    {
      "cell_type": "markdown",
      "source": [
        "# Decoder "
      ],
      "metadata": {
        "id": "quDydVnmJMJe"
      }
    },
    {
      "cell_type": "code",
      "source": [
        "encoded_input = Input(shape=(n,))                         # Model for decoder is defined here  \n",
        "\n",
        "decoder_1 = autoencoder.layers[-2](encoded_input)         # Second last layer of the defined Autoencoder \n",
        "decoder_2 = autoencoder.layers[-1](decoder_1)             # Last layer of the defined Autoencoder \n",
        "decoder = Model(encoded_input, decoder_2)                                 "
      ],
      "metadata": {
        "id": "AtTTid3VdHRz"
      },
      "execution_count": 13,
      "outputs": []
    },
    {
      "cell_type": "markdown",
      "source": [
        "# Generating Test data"
      ],
      "metadata": {
        "id": "JjyYM3M26tgC"
      }
    },
    {
      "cell_type": "code",
      "source": [
        "test_samples = 1500                                       # Size of test samples \n",
        "                                                                               \n",
        "test_labels = np.random.randint(L_o_m,size=test_samples)  # Test data of size N is created with all values enclosed between 0 and M\n",
        "test_data = []\n",
        "\n",
        "for i in test_labels:\n",
        "    test_vector = np.zeros(L_o_m)                         # Numpy array of size M is created with all entries equal to zero \n",
        "    test_vector[i] = 1                                    # performing One hot encoding on each entry of test_samples  \n",
        "    test_data.append(test_vector)\n",
        "    \n",
        "test_data = np.array(test_data)                           # Test data is converted to numpy array \n",
        "print(test_data.shape)                                    # Shape of test_data is given by (1500*M)"
      ],
      "metadata": {
        "colab": {
          "base_uri": "https://localhost:8080/"
        },
        "id": "J8dCdLWv6dGo",
        "outputId": "1dce8aca-d52d-4a64-86cb-5a69c40bdf33"
      },
      "execution_count": 14,
      "outputs": [
        {
          "output_type": "stream",
          "name": "stdout",
          "text": [
            "(1500, 256)\n"
          ]
        }
      ]
    },
    {
      "cell_type": "code",
      "source": [
        "test_num = 99                                             # Verifying the onehot encoding on generated test data \n",
        "print (test_data[test_num],test_labels[test_num])"
      ],
      "metadata": {
        "colab": {
          "base_uri": "https://localhost:8080/"
        },
        "id": "fT9x6ifj6lG_",
        "outputId": "47fc2828-d8de-4bdf-c0b1-b91c9cef232a"
      },
      "execution_count": 15,
      "outputs": [
        {
          "output_type": "stream",
          "name": "stdout",
          "text": [
            "[0. 0. 0. 0. 0. 0. 0. 0. 0. 0. 0. 0. 0. 0. 0. 0. 0. 0. 0. 0. 0. 0. 0. 0.\n",
            " 0. 0. 0. 0. 0. 0. 0. 0. 0. 0. 0. 0. 0. 0. 0. 0. 0. 0. 0. 0. 0. 0. 0. 0.\n",
            " 0. 0. 0. 0. 0. 0. 0. 0. 0. 0. 0. 0. 0. 0. 0. 0. 0. 0. 0. 0. 0. 0. 0. 0.\n",
            " 0. 0. 0. 0. 0. 0. 0. 0. 0. 0. 0. 0. 0. 0. 0. 0. 0. 0. 0. 0. 0. 0. 0. 0.\n",
            " 0. 0. 0. 0. 0. 0. 0. 0. 0. 0. 0. 0. 0. 0. 0. 0. 0. 0. 0. 0. 0. 0. 0. 0.\n",
            " 0. 0. 0. 0. 0. 0. 0. 0. 0. 0. 0. 0. 0. 0. 0. 0. 0. 0. 0. 0. 0. 0. 0. 0.\n",
            " 0. 0. 0. 0. 0. 0. 0. 0. 0. 0. 0. 0. 0. 0. 0. 0. 0. 0. 0. 0. 0. 0. 0. 0.\n",
            " 0. 0. 0. 0. 0. 0. 0. 0. 0. 0. 0. 0. 0. 0. 0. 0. 0. 0. 0. 0. 0. 0. 0. 0.\n",
            " 0. 0. 0. 0. 0. 0. 0. 0. 0. 0. 0. 0. 0. 0. 0. 0. 0. 0. 0. 0. 0. 0. 0. 0.\n",
            " 0. 0. 0. 0. 0. 0. 0. 0. 0. 0. 0. 0. 0. 0. 0. 0. 0. 0. 0. 0. 0. 0. 0. 0.\n",
            " 0. 0. 0. 0. 1. 0. 0. 0. 0. 0. 0. 0. 0. 0. 0. 0.] 244\n"
          ]
        }
      ]
    },
    {
      "cell_type": "markdown",
      "source": [
        "# Constellation Diagram\n",
        "Every message in the message space is encode to draw constellation diagram "
      ],
      "metadata": {
        "id": "1CulcMPYOglR"
      }
    },
    {
      "cell_type": "code",
      "source": [
        "scatter_plot = []                                                                \n",
        "for i in range(0,L_o_m):                                  # For all the messages in the message space \n",
        "    array1 = np.zeros(L_o_m)\n",
        "    \n",
        "    array1[i] = 1                                         # onehot encoding of the each message\n",
        "    scatter_plot.append(encoder.predict(np.expand_dims(array1,axis=0)))        \n",
        "                                                          # Encoding every possible entry of Messages needed to be sent \n",
        "scatter_plot = np.array(scatter_plot)                     # As you can see for each of the sixteen possible values there is a complex representation \n",
        "print (scatter_plot.shape)"
      ],
      "metadata": {
        "colab": {
          "base_uri": "https://localhost:8080/"
        },
        "id": "M5O_d2o9dV-s",
        "outputId": "4ec61e97-ba72-4f90-8cf6-818046ccbcd6"
      },
      "execution_count": 16,
      "outputs": [
        {
          "output_type": "stream",
          "name": "stdout",
          "text": [
            "(256, 1, 8)\n"
          ]
        }
      ]
    },
    {
      "cell_type": "code",
      "source": [
        "test_encoded = encoder.predict(test_data)                 # Test data is subjected to encoder \n",
        "noise_std = np.sqrt(1/(2*R*EbNo_train))                   # Standard deviation of noise with respect to given SNR\n",
        "noise = noise_std * np.random.randn(test_samples,n)       # Generating noise \n",
        "test_encoded = test_encoded + noise                       # Noise is added \n",
        "\n",
        "T1 = TSNE(learning_rate= 'auto' , n_components=2,n_iter=35000, random_state=0, perplexity=50).fit_transform(test_encoded)        \n",
        "                                                          # Noise added vector subjected to t-distributed stochastic neighbor embedding (t-SNE)\n",
        "                                                          # t-distributed stochastic neighbor embedding (t-SNE) is a statistical method for \n",
        "                                                          # visualizing high-dimensional data by giving each datapoint a location \n",
        "                                                          # in a two or three-dimensional map.\n",
        "\n",
        "print (T1.shape)\n",
        "T1 = T1 / 8                                               # eight channels \n",
        "\n",
        "plt.scatter(T1[:,0],T1[:,1])\n",
        " \n",
        "plt.grid()\n",
        "plt.show()"
      ],
      "metadata": {
        "colab": {
          "base_uri": "https://localhost:8080/",
          "height": 317
        },
        "id": "eUplxgHfdoFz",
        "outputId": "a6aa5e2e-5436-414b-b9ab-4d1fe79bffc7"
      },
      "execution_count": 17,
      "outputs": [
        {
          "output_type": "stream",
          "name": "stderr",
          "text": [
            "/usr/local/lib/python3.7/dist-packages/sklearn/manifold/_t_sne.py:783: FutureWarning: The default initialization in TSNE will change from 'random' to 'pca' in 1.2.\n",
            "  FutureWarning,\n"
          ]
        },
        {
          "output_type": "stream",
          "name": "stdout",
          "text": [
            "(1500, 2)\n"
          ]
        },
        {
          "output_type": "display_data",
          "data": {
            "text/plain": [
              "<Figure size 432x288 with 1 Axes>"
            ],
            "image/png": "[encoded data removed]"
          },
          "metadata": {
            "needs_background": "light"
          }
        }
      ]
    },
    {
      "cell_type": "markdown",
      "source": [
        "# Calculating Bit Error Rate "
      ],
      "metadata": {
        "id": "ztU93yDPO2Lx"
      }
    },
    {
      "cell_type": "code",
      "source": [
        "def frange(i, j, jump):                                   # For represnting SNR after overy 0.5 db interval \n",
        "  while i < j:\n",
        "    yield i\n",
        "    i += jump"
      ],
      "metadata": {
        "id": "jjRI-2yKdrNz"
      },
      "execution_count": 18,
      "outputs": []
    },
    {
      "cell_type": "code",
      "source": [
        "SNR_range = list(frange(-4,8.5,0.5))                      # Range of SNR \n",
        "print(len(SNR_range))                                     # In total there are 25 intervals\n",
        "  \n",
        "BER = [None]*len(SNR_range)                                                  \n",
        "                                                 \n",
        "for x in range(0,len(SNR_range)):                         # for each of the value of SNR \n",
        "    EbNo=10.0**(SNR_range[x]/10.0)                        # to covert each value of SNR from db's\n",
        "    noise_std = np.sqrt(1/(2*R*EbNo))                     # Standard deviation of the added noise layer \n",
        "    mean = 0                                              # Mean of the added noise layer \n",
        "    errors = 0\n",
        "    \n",
        "    noise = noise_std * np.random.randn(test_samples,n)   # Noise is added to encoded data\n",
        "    encoded_vector = encoder.predict(test_data)           # Encoded test data \n",
        "    noise_added_vector = encoded_vector + noise           # Encoded test data + Noise\n",
        "\n",
        "    decoded_vector =  decoder.predict(noise_added_vector) # Decoded data \n",
        "    pred_output = np.argmax(decoded_vector,axis=1)        # As the decoder last layer is Softmax so the index with the highest probabilty is chosen\n",
        "    errors = (pred_output != test_labels)                 # It checks for each of the test_sample is the predicted value is same as the original value \n",
        "    \n",
        "    errors =  errors.astype(int).sum()                    # Adds up the total Error bits in each of the iteration for N values  \n",
        "        \n",
        "    BER[x] = errors / test_samples                        # BER is given by total  wrongly identified examples over total number of Examples\n",
        "\n",
        "    print ('SNR (Signal to noise ratio):',SNR_range[x],'BER (Bit Error Rate):',BER[x])"
      ],
      "metadata": {
        "colab": {
          "base_uri": "https://localhost:8080/"
        },
        "id": "8CICwsaTdx5c",
        "outputId": "1c698b21-3424-4147-ee35-959f5cfc206e"
      },
      "execution_count": 19,
      "outputs": [
        {
          "output_type": "stream",
          "name": "stdout",
          "text": [
            "25\n",
            "SNR (Signal to noise ratio): -4 BER (Bit Error Rate): 0.43466666666666665\n",
            "SNR (Signal to noise ratio): -3.5 BER (Bit Error Rate): 0.384\n",
            "SNR (Signal to noise ratio): -3.0 BER (Bit Error Rate): 0.31333333333333335\n",
            "SNR (Signal to noise ratio): -2.5 BER (Bit Error Rate): 0.2853333333333333\n",
            "SNR (Signal to noise ratio): -2.0 BER (Bit Error Rate): 0.23466666666666666\n",
            "SNR (Signal to noise ratio): -1.5 BER (Bit Error Rate): 0.17066666666666666\n",
            "SNR (Signal to noise ratio): -1.0 BER (Bit Error Rate): 0.13\n",
            "SNR (Signal to noise ratio): -0.5 BER (Bit Error Rate): 0.09866666666666667\n",
            "SNR (Signal to noise ratio): 0.0 BER (Bit Error Rate): 0.06933333333333333\n",
            "SNR (Signal to noise ratio): 0.5 BER (Bit Error Rate): 0.05466666666666667\n",
            "SNR (Signal to noise ratio): 1.0 BER (Bit Error Rate): 0.024666666666666667\n",
            "SNR (Signal to noise ratio): 1.5 BER (Bit Error Rate): 0.017333333333333333\n",
            "SNR (Signal to noise ratio): 2.0 BER (Bit Error Rate): 0.013333333333333334\n",
            "SNR (Signal to noise ratio): 2.5 BER (Bit Error Rate): 0.008666666666666666\n",
            "SNR (Signal to noise ratio): 3.0 BER (Bit Error Rate): 0.0026666666666666666\n",
            "SNR (Signal to noise ratio): 3.5 BER (Bit Error Rate): 0.0013333333333333333\n",
            "SNR (Signal to noise ratio): 4.0 BER (Bit Error Rate): 0.0006666666666666666\n",
            "SNR (Signal to noise ratio): 4.5 BER (Bit Error Rate): 0.0\n",
            "SNR (Signal to noise ratio): 5.0 BER (Bit Error Rate): 0.0006666666666666666\n",
            "SNR (Signal to noise ratio): 5.5 BER (Bit Error Rate): 0.0\n",
            "SNR (Signal to noise ratio): 6.0 BER (Bit Error Rate): 0.0006666666666666666\n",
            "SNR (Signal to noise ratio): 6.5 BER (Bit Error Rate): 0.0\n",
            "SNR (Signal to noise ratio): 7.0 BER (Bit Error Rate): 0.0\n",
            "SNR (Signal to noise ratio): 7.5 BER (Bit Error Rate): 0.0\n",
            "SNR (Signal to noise ratio): 8.0 BER (Bit Error Rate): 0.0\n"
          ]
        }
      ]
    },
    {
      "cell_type": "markdown",
      "source": [
        "# Plot of Bit Error Rate against Range of SNR"
      ],
      "metadata": {
        "id": "4DWbspcUp439"
      }
    },
    {
      "cell_type": "code",
      "source": [
        "\n",
        "plt.plot(SNR_range, BER, 'bo',label='Autoencoder(8,8)')\n",
        "plt.yscale('log')\n",
        "plt.xlabel('SNR Range')\n",
        "plt.ylabel('Block Error Rate')\n",
        "plt.grid()\n",
        "plt.legend(loc='upper right',ncol = 1)"
      ],
      "metadata": {
        "colab": {
          "base_uri": "https://localhost:8080/",
          "height": 296
        },
        "id": "GrswTvJod9Xs",
        "outputId": "cea55821-0f19-41a7-f099-a0cfc60decc6"
      },
      "execution_count": 20,
      "outputs": [
        {
          "output_type": "execute_result",
          "data": {
            "text/plain": [
              "<matplotlib.legend.Legend at 0x7f238d4f7790>"
            ]
          },
          "metadata": {},
          "execution_count": 20
        },
        {
          "output_type": "display_data",
          "data": {
            "text/plain": [
              "<Figure size 432x288 with 1 Axes>"
            ],
            "image/png": "[encoded data removed]"
          },
          "metadata": {
            "needs_background": "light"
          }
        }
      ]
    }
  ]
}