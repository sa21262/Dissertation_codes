{
  "nbformat": 4,
  "nbformat_minor": 0,
  "metadata": {
    "colab": {
      "name": "(2,4)a_(1)_(1).ipynb",
      "provenance": [],
      "collapsed_sections": []
    },
    "kernelspec": {
      "name": "python3",
      "display_name": "Python 3"
    },
    "language_info": {
      "name": "python"
    }
  },
  "cells": [
    {
      "cell_type": "markdown",
      "source": [
        "# Required Libraries  "
      ],
      "metadata": {
        "id": "CW8m7EYH-NH6"
      }
    },
    {
      "cell_type": "code",
      "execution_count": 1,
      "metadata": {
        "id": "rpECXu6zYkIF"
      },
      "outputs": [],
      "source": [
        "import numpy as np\n",
        "import tensorflow as tf\n",
        "import keras\n",
        "from keras.layers import Input, Dense, GaussianNoise,Lambda\n",
        "from keras.models import Model\n",
        "from keras import backend as K\n",
        "%matplotlib inline\n",
        "import matplotlib.pyplot as plt\n",
        "from tensorflow.keras.layers import BatchNormalization\n",
        "from tensorflow.keras.optimizers import Adam\n",
        "from keras.models import load_model\n",
        "from keras.constraints import max_norm \n",
        "from numpy.random import seed\n",
        "seed(1)\n",
        "from tensorflow.keras.utils import set_random_seed\n",
        "set_random_seed(3)                                                 \n",
        "from scipy import interpolate"
      ]
    },
    {
      "cell_type": "markdown",
      "source": [
        "# Parameters Declaration \n",
        "Lenght of Message space, Number of bits per symbol, number of channel uses\n",
        "and Rate of communication is defined here. "
      ],
      "metadata": {
        "id": "2zTzktIN_LAj"
      }
    },
    {
      "cell_type": "code",
      "source": [
        "L_o_m  = 16                                               # Lenght of Message space(M) given by 2^number of bits \n",
        "bits = np.log2(L_o_m)                                     # Number of bits \n",
        "bits = int(bits)                                          # Converting it to int \n",
        "n = 2                                                     # Number of channels(n) \n",
        "R = bits/n                                                # Communication rate(R) given by number of bits divided by number of channels\n",
        "\n",
        "print ('Lenght of Message space (M):',L_o_m,'Number of bits (k):',bits,'Number of channels (n):',n)"
      ],
      "metadata": {
        "colab": {
          "base_uri": "https://localhost:8080/"
        },
        "id": "UqlokJnxa0P-",
        "outputId": "4c4aa506-b402-47e3-ff0c-be458986c95d"
      },
      "execution_count": 2,
      "outputs": [
        {
          "output_type": "stream",
          "name": "stdout",
          "text": [
            "Lenght of Message space (M): 16 Number of bits (k): 4 Number of channels (n): 2\n"
          ]
        }
      ]
    },
    {
      "cell_type": "markdown",
      "source": [
        "# Generating training data"
      ],
      "metadata": {
        "id": "rHe_SSueADk9"
      }
    },
    {
      "cell_type": "code",
      "source": [
        "samples = 100000\n",
        "labels = np.random.randint(L_o_m , size=samples)          # generating 100000 random numbers whose values are enclosed between 0 and (M-1)"
      ],
      "metadata": {
        "id": "01xhM5MWa4Jl"
      },
      "execution_count": 3,
      "outputs": []
    },
    {
      "cell_type": "markdown",
      "source": [
        "# Performing Onehot Encoding\n",
        "Each of the message in generated message space is onehot encoded. "
      ],
      "metadata": {
        "id": "TJPJNPzJAko9"
      }
    },
    {
      "cell_type": "code",
      "source": [
        "training_data = []                                        # Creating a empty list \n",
        "for i in labels:                         \n",
        "    inp_vector = np.zeros(L_o_m)                          # Creating a numpy array of size M                                                    \n",
        "    inp_vector[i] = 1                                     # Performing one hot encoding \n",
        "    training_data.append(inp_vector) \n",
        "\n"
      ],
      "metadata": {
        "id": "fZA-OwDvboBl"
      },
      "execution_count": 4,
      "outputs": []
    },
    {
      "cell_type": "code",
      "source": [
        "training_data = np.array(training_data)                   # Transforming data to numpy array\n",
        "print (training_data.shape)                               # Each of the sample out of the N generated samples is onehot encoded to vector of size M "
      ],
      "metadata": {
        "colab": {
          "base_uri": "https://localhost:8080/"
        },
        "id": "_ppnpj4ubrsF",
        "outputId": "bb5957a3-d782-4f33-f94b-a9250448447c"
      },
      "execution_count": 5,
      "outputs": [
        {
          "output_type": "stream",
          "name": "stdout",
          "text": [
            "(100000, 16)\n"
          ]
        }
      ]
    },
    {
      "cell_type": "markdown",
      "source": [
        "Verifying the one hot encoding performed on the generated data.  \n"
      ],
      "metadata": {
        "id": "diWa01MlD-ic"
      }
    },
    {
      "cell_type": "code",
      "source": [
        "check_list = [23,45,97,115,278,369]\n",
        "for i in check_list:\n",
        "    print(labels[i],training_data[i])"
      ],
      "metadata": {
        "colab": {
          "base_uri": "https://localhost:8080/"
        },
        "id": "SwwdatTObvhc",
        "outputId": "d142de3c-f87e-4081-d05f-6564d393e8ef"
      },
      "execution_count": 6,
      "outputs": [
        {
          "output_type": "stream",
          "name": "stdout",
          "text": [
            "14 [0. 0. 0. 0. 0. 0. 0. 0. 0. 0. 0. 0. 0. 0. 1. 0.]\n",
            "7 [0. 0. 0. 0. 0. 0. 0. 1. 0. 0. 0. 0. 0. 0. 0. 0.]\n",
            "0 [1. 0. 0. 0. 0. 0. 0. 0. 0. 0. 0. 0. 0. 0. 0. 0.]\n",
            "0 [1. 0. 0. 0. 0. 0. 0. 0. 0. 0. 0. 0. 0. 0. 0. 0.]\n",
            "2 [0. 0. 1. 0. 0. 0. 0. 0. 0. 0. 0. 0. 0. 0. 0. 0.]\n",
            "7 [0. 0. 0. 0. 0. 0. 0. 1. 0. 0. 0. 0. 0. 0. 0. 0.]\n"
          ]
        }
      ]
    },
    {
      "cell_type": "markdown",
      "source": [
        "# Defining the architecture of Autoencoder"
      ],
      "metadata": {
        "id": "H2uQEQoIFBWw"
      }
    },
    {
      "cell_type": "code",
      "source": [
        "input_signal = Input(shape=(L_o_m,))                              # After performing one hot encoding each input is vector of size M\n",
        "encoded1 = Dense(L_o_m, activation='relu')(input_signal)          # First layer is dense layer with relu activation function and M nuerons  \n",
        "encoded2 = Dense(n, activation='linear')(encoded1)                # Second layer is dense layer with linear activaton function and n_channel nuerons \n",
        "encoded3 = Lambda(lambda x: np.sqrt(n)*K.l2_normalize(x,axis=1))(encoded2)      \n",
        "                                                                  # Normalisation is performed to met the physical constraints (Energy Constraint)\n",
        "                                                                  #encoded3 = BatchNormalization(gamma_constraint=max_norm(1.4142136))(encoded2) \n",
        "\n",
        "\n",
        "EbNo_train = 5.01187                                              # coverted 7 db of EbNo\n",
        "                                                                  # 10log(EbNo) = 7 db\n",
        "encoded4 = GaussianNoise(np.sqrt(1/(2*R*EbNo_train)))(encoded3)   # As Variance is given by (1/(2*R*EbNo_train) \n",
        "                                                                  # Gausian noise is added by this layer \n",
        "\n",
        "decoded1 = Dense(L_o_m, activation='relu')(encoded4)              # First layer of the decoder is dense layer with-\n",
        "                                                                  # -relu activation function and total M nuerons\n",
        "\n",
        "decoded2 = Dense(L_o_m, activation='softmax')(decoded1)           # Second layer of the decoder is dense layer with- \n",
        "                                                                  # -softmax activation function which outputs the probabilities \n",
        "\n",
        "\n",
        "autoencoder = Model(input_signal, decoded2)                       # Autoencoder model is defined here \n",
        "adam = Adam(learning_rate=0.001)                                  # Adam optimizer is used with learning rate 0.01 to minimise the loss \n",
        "\n",
        "autoencoder.compile(optimizer=adam, loss='categorical_crossentropy')    \n",
        "                                                                  # Autoencoder is compiled here and loss is defined as categorical crossentropy\n",
        "                                                                  # between the onehot encoded input vector and the output of the decoder "
      ],
      "metadata": {
        "id": "-FNphna1bxfk"
      },
      "execution_count": 7,
      "outputs": []
    },
    {
      "cell_type": "markdown",
      "source": [
        "# Summary of Autoencoder"
      ],
      "metadata": {
        "id": "7xS2b5trFX2r"
      }
    },
    {
      "cell_type": "code",
      "source": [
        "print (autoencoder.summary())"
      ],
      "metadata": {
        "colab": {
          "base_uri": "https://localhost:8080/"
        },
        "id": "4o2A_DywcfK1",
        "outputId": "aa73c6d6-490d-455e-9bd0-9499511a7c98"
      },
      "execution_count": 8,
      "outputs": [
        {
          "output_type": "stream",
          "name": "stdout",
          "text": [
            "Model: \"model\"\n",
            "_________________________________________________________________\n",
            " Layer (type)                Output Shape              Param #   \n",
            "=================================================================\n",
            " input_1 (InputLayer)        [(None, 16)]              0         \n",
            "                                                                 \n",
            " dense (Dense)               (None, 16)                272       \n",
            "                                                                 \n",
            " dense_1 (Dense)             (None, 2)                 34        \n",
            "                                                                 \n",
            " lambda (Lambda)             (None, 2)                 0         \n",
            "                                                                 \n",
            " gaussian_noise (GaussianNoi  (None, 2)                0         \n",
            " se)                                                             \n",
            "                                                                 \n",
            " dense_2 (Dense)             (None, 16)                48        \n",
            "                                                                 \n",
            " dense_3 (Dense)             (None, 16)                272       \n",
            "                                                                 \n",
            "=================================================================\n",
            "Total params: 626\n",
            "Trainable params: 626\n",
            "Non-trainable params: 0\n",
            "_________________________________________________________________\n",
            "None\n"
          ]
        }
      ]
    },
    {
      "cell_type": "markdown",
      "source": [
        "# Training the model "
      ],
      "metadata": {
        "id": "KsIqAPGUFjdr"
      }
    },
    {
      "cell_type": "code",
      "source": [
        "autoencoder.fit(training_data, training_data, epochs=150, batch_size=64)        # Autoencoder is fitted with the generated data                                         "
      ],
      "metadata": {
        "colab": {
          "base_uri": "https://localhost:8080/"
        },
        "id": "5zk1GFPac4-M",
        "outputId": "525151a2-0109-4ef6-e54f-e72ebcef4b5c"
      },
      "execution_count": 9,
      "outputs": [
        {
          "output_type": "stream",
          "name": "stdout",
          "text": [
            "Epoch 1/150\n",
            "1563/1563 [==============================] - 7s 4ms/step - loss: 1.2210\n",
            "Epoch 2/150\n",
            "1563/1563 [==============================] - 5s 3ms/step - loss: 0.6247\n",
            "Epoch 3/150\n",
            "1563/1563 [==============================] - 6s 4ms/step - loss: 0.5496\n",
            "Epoch 4/150\n",
            "1563/1563 [==============================] - 3s 2ms/step - loss: 0.5375\n",
            "Epoch 5/150\n",
            "1563/1563 [==============================] - 3s 2ms/step - loss: 0.5299\n",
            "Epoch 6/150\n",
            "1563/1563 [==============================] - 3s 2ms/step - loss: 0.5301\n",
            "Epoch 7/150\n",
            "1563/1563 [==============================] - 3s 2ms/step - loss: 0.5266\n",
            "Epoch 8/150\n",
            "1563/1563 [==============================] - 3s 2ms/step - loss: 0.5296\n",
            "Epoch 9/150\n",
            "1563/1563 [==============================] - 3s 2ms/step - loss: 0.5278\n",
            "Epoch 10/150\n",
            "1563/1563 [==============================] - 3s 2ms/step - loss: 0.5256\n",
            "Epoch 11/150\n",
            "1563/1563 [==============================] - 3s 2ms/step - loss: 0.5247\n",
            "Epoch 12/150\n",
            "1563/1563 [==============================] - 3s 2ms/step - loss: 0.5244\n",
            "Epoch 13/150\n",
            "1563/1563 [==============================] - 3s 2ms/step - loss: 0.5222\n",
            "Epoch 14/150\n",
            "1563/1563 [==============================] - 3s 2ms/step - loss: 0.5259\n",
            "Epoch 15/150\n",
            "1563/1563 [==============================] - 3s 2ms/step - loss: 0.5231\n",
            "Epoch 16/150\n",
            "1563/1563 [==============================] - 3s 2ms/step - loss: 0.5246\n",
            "Epoch 17/150\n",
            "1563/1563 [==============================] - 3s 2ms/step - loss: 0.5252\n",
            "Epoch 18/150\n",
            "1563/1563 [==============================] - 3s 2ms/step - loss: 0.5241\n",
            "Epoch 19/150\n",
            "1563/1563 [==============================] - 3s 2ms/step - loss: 0.5206\n",
            "Epoch 20/150\n",
            "1563/1563 [==============================] - 3s 2ms/step - loss: 0.5224\n",
            "Epoch 21/150\n",
            "1563/1563 [==============================] - 3s 2ms/step - loss: 0.5190\n",
            "Epoch 22/150\n",
            "1563/1563 [==============================] - 3s 2ms/step - loss: 0.5237\n",
            "Epoch 23/150\n",
            "1563/1563 [==============================] - 3s 2ms/step - loss: 0.5270\n",
            "Epoch 24/150\n",
            "1563/1563 [==============================] - 3s 2ms/step - loss: 0.5237\n",
            "Epoch 25/150\n",
            "1563/1563 [==============================] - 3s 2ms/step - loss: 0.5236\n",
            "Epoch 26/150\n",
            "1563/1563 [==============================] - 3s 2ms/step - loss: 0.5181\n",
            "Epoch 27/150\n",
            "1563/1563 [==============================] - 3s 2ms/step - loss: 0.5196\n",
            "Epoch 28/150\n",
            "1563/1563 [==============================] - 3s 2ms/step - loss: 0.5235\n",
            "Epoch 29/150\n",
            "1563/1563 [==============================] - 3s 2ms/step - loss: 0.5245\n",
            "Epoch 30/150\n",
            "1563/1563 [==============================] - 3s 2ms/step - loss: 0.5189\n",
            "Epoch 31/150\n",
            "1563/1563 [==============================] - 3s 2ms/step - loss: 0.5240\n",
            "Epoch 32/150\n",
            "1563/1563 [==============================] - 3s 2ms/step - loss: 0.5192\n",
            "Epoch 33/150\n",
            "1563/1563 [==============================] - 3s 2ms/step - loss: 0.5226\n",
            "Epoch 34/150\n",
            "1563/1563 [==============================] - 3s 2ms/step - loss: 0.5243\n",
            "Epoch 35/150\n",
            "1563/1563 [==============================] - 3s 2ms/step - loss: 0.5229\n",
            "Epoch 36/150\n",
            "1563/1563 [==============================] - 3s 2ms/step - loss: 0.5218\n",
            "Epoch 37/150\n",
            "1563/1563 [==============================] - 3s 2ms/step - loss: 0.5171\n",
            "Epoch 38/150\n",
            "1563/1563 [==============================] - 3s 2ms/step - loss: 0.5236\n",
            "Epoch 39/150\n",
            "1563/1563 [==============================] - 3s 2ms/step - loss: 0.5217\n",
            "Epoch 40/150\n",
            "1563/1563 [==============================] - 3s 2ms/step - loss: 0.5169\n",
            "Epoch 41/150\n",
            "1563/1563 [==============================] - 3s 2ms/step - loss: 0.5206\n",
            "Epoch 42/150\n",
            "1563/1563 [==============================] - 3s 2ms/step - loss: 0.5200\n",
            "Epoch 43/150\n",
            "1563/1563 [==============================] - 3s 2ms/step - loss: 0.5233\n",
            "Epoch 44/150\n",
            "1563/1563 [==============================] - 3s 2ms/step - loss: 0.5219\n",
            "Epoch 45/150\n",
            "1563/1563 [==============================] - 3s 2ms/step - loss: 0.5242\n",
            "Epoch 46/150\n",
            "1563/1563 [==============================] - 3s 2ms/step - loss: 0.5240\n",
            "Epoch 47/150\n",
            "1563/1563 [==============================] - 3s 2ms/step - loss: 0.5235\n",
            "Epoch 48/150\n",
            "1563/1563 [==============================] - 3s 2ms/step - loss: 0.5239\n",
            "Epoch 49/150\n",
            "1563/1563 [==============================] - 3s 2ms/step - loss: 0.5217\n",
            "Epoch 50/150\n",
            "1563/1563 [==============================] - 3s 2ms/step - loss: 0.5208\n",
            "Epoch 51/150\n",
            "1563/1563 [==============================] - 3s 2ms/step - loss: 0.5236\n",
            "Epoch 52/150\n",
            "1563/1563 [==============================] - 3s 2ms/step - loss: 0.5183\n",
            "Epoch 53/150\n",
            "1563/1563 [==============================] - 3s 2ms/step - loss: 0.5200\n",
            "Epoch 54/150\n",
            "1563/1563 [==============================] - 3s 2ms/step - loss: 0.5268\n",
            "Epoch 55/150\n",
            "1563/1563 [==============================] - 3s 2ms/step - loss: 0.5192\n",
            "Epoch 56/150\n",
            "1563/1563 [==============================] - 3s 2ms/step - loss: 0.5176\n",
            "Epoch 57/150\n",
            "1563/1563 [==============================] - 3s 2ms/step - loss: 0.5223\n",
            "Epoch 58/150\n",
            "1563/1563 [==============================] - 3s 2ms/step - loss: 0.5207\n",
            "Epoch 59/150\n",
            "1563/1563 [==============================] - 3s 2ms/step - loss: 0.5256\n",
            "Epoch 60/150\n",
            "1563/1563 [==============================] - 3s 2ms/step - loss: 0.5223\n",
            "Epoch 61/150\n",
            "1563/1563 [==============================] - 3s 2ms/step - loss: 0.5216\n",
            "Epoch 62/150\n",
            "1563/1563 [==============================] - 3s 2ms/step - loss: 0.5220\n",
            "Epoch 63/150\n",
            "1563/1563 [==============================] - 3s 2ms/step - loss: 0.5206\n",
            "Epoch 64/150\n",
            "1563/1563 [==============================] - 3s 2ms/step - loss: 0.5228\n",
            "Epoch 65/150\n",
            "1563/1563 [==============================] - 3s 2ms/step - loss: 0.5195\n",
            "Epoch 66/150\n",
            "1563/1563 [==============================] - 3s 2ms/step - loss: 0.5209\n",
            "Epoch 67/150\n",
            "1563/1563 [==============================] - 3s 2ms/step - loss: 0.5205\n",
            "Epoch 68/150\n",
            "1563/1563 [==============================] - 3s 2ms/step - loss: 0.5237\n",
            "Epoch 69/150\n",
            "1563/1563 [==============================] - 3s 2ms/step - loss: 0.5183\n",
            "Epoch 70/150\n",
            "1563/1563 [==============================] - 3s 2ms/step - loss: 0.5213\n",
            "Epoch 71/150\n",
            "1563/1563 [==============================] - 3s 2ms/step - loss: 0.5209\n",
            "Epoch 72/150\n",
            "1563/1563 [==============================] - 3s 2ms/step - loss: 0.5194\n",
            "Epoch 73/150\n",
            "1563/1563 [==============================] - 3s 2ms/step - loss: 0.5244\n",
            "Epoch 74/150\n",
            "1563/1563 [==============================] - 3s 2ms/step - loss: 0.5212\n",
            "Epoch 75/150\n",
            "1563/1563 [==============================] - 3s 2ms/step - loss: 0.5218\n",
            "Epoch 76/150\n",
            "1563/1563 [==============================] - 3s 2ms/step - loss: 0.5231\n",
            "Epoch 77/150\n",
            "1563/1563 [==============================] - 3s 2ms/step - loss: 0.5214\n",
            "Epoch 78/150\n",
            "1563/1563 [==============================] - 3s 2ms/step - loss: 0.5154\n",
            "Epoch 79/150\n",
            "1563/1563 [==============================] - 3s 2ms/step - loss: 0.5225\n",
            "Epoch 80/150\n",
            "1563/1563 [==============================] - 3s 2ms/step - loss: 0.5221\n",
            "Epoch 81/150\n",
            "1563/1563 [==============================] - 3s 2ms/step - loss: 0.5189\n",
            "Epoch 82/150\n",
            "1563/1563 [==============================] - 3s 2ms/step - loss: 0.5227\n",
            "Epoch 83/150\n",
            "1563/1563 [==============================] - 3s 2ms/step - loss: 0.5211\n",
            "Epoch 84/150\n",
            "1563/1563 [==============================] - 3s 2ms/step - loss: 0.5201\n",
            "Epoch 85/150\n",
            "1563/1563 [==============================] - 3s 2ms/step - loss: 0.5232\n",
            "Epoch 86/150\n",
            "1563/1563 [==============================] - 3s 2ms/step - loss: 0.5190\n",
            "Epoch 87/150\n",
            "1563/1563 [==============================] - 3s 2ms/step - loss: 0.5197\n",
            "Epoch 88/150\n",
            "1563/1563 [==============================] - 3s 2ms/step - loss: 0.5251\n",
            "Epoch 89/150\n",
            "1563/1563 [==============================] - 3s 2ms/step - loss: 0.5194\n",
            "Epoch 90/150\n",
            "1563/1563 [==============================] - 3s 2ms/step - loss: 0.5180\n",
            "Epoch 91/150\n",
            "1563/1563 [==============================] - 3s 2ms/step - loss: 0.5217\n",
            "Epoch 92/150\n",
            "1563/1563 [==============================] - 3s 2ms/step - loss: 0.5189\n",
            "Epoch 93/150\n",
            "1563/1563 [==============================] - 3s 2ms/step - loss: 0.5218\n",
            "Epoch 94/150\n",
            "1563/1563 [==============================] - 3s 2ms/step - loss: 0.5202\n",
            "Epoch 95/150\n",
            "1563/1563 [==============================] - 3s 2ms/step - loss: 0.5222\n",
            "Epoch 96/150\n",
            "1563/1563 [==============================] - 3s 2ms/step - loss: 0.5200\n",
            "Epoch 97/150\n",
            "1563/1563 [==============================] - 3s 2ms/step - loss: 0.5207\n",
            "Epoch 98/150\n",
            "1563/1563 [==============================] - 3s 2ms/step - loss: 0.5227\n",
            "Epoch 99/150\n",
            "1563/1563 [==============================] - 3s 2ms/step - loss: 0.5213\n",
            "Epoch 100/150\n",
            "1563/1563 [==============================] - 3s 2ms/step - loss: 0.5203\n",
            "Epoch 101/150\n",
            "1563/1563 [==============================] - 3s 2ms/step - loss: 0.5215\n",
            "Epoch 102/150\n",
            "1563/1563 [==============================] - 3s 2ms/step - loss: 0.5232\n",
            "Epoch 103/150\n",
            "1563/1563 [==============================] - 3s 2ms/step - loss: 0.5223\n",
            "Epoch 104/150\n",
            "1563/1563 [==============================] - 2s 2ms/step - loss: 0.5209\n",
            "Epoch 105/150\n",
            "1563/1563 [==============================] - 3s 2ms/step - loss: 0.5227\n",
            "Epoch 106/150\n",
            "1563/1563 [==============================] - 3s 2ms/step - loss: 0.5266\n",
            "Epoch 107/150\n",
            "1563/1563 [==============================] - 3s 2ms/step - loss: 0.5203\n",
            "Epoch 108/150\n",
            "1563/1563 [==============================] - 3s 2ms/step - loss: 0.5200\n",
            "Epoch 109/150\n",
            "1563/1563 [==============================] - 3s 2ms/step - loss: 0.5251\n",
            "Epoch 110/150\n",
            "1563/1563 [==============================] - 3s 2ms/step - loss: 0.5235\n",
            "Epoch 111/150\n",
            "1563/1563 [==============================] - 3s 2ms/step - loss: 0.5186\n",
            "Epoch 112/150\n",
            "1563/1563 [==============================] - 3s 2ms/step - loss: 0.5218\n",
            "Epoch 113/150\n",
            "1563/1563 [==============================] - 3s 2ms/step - loss: 0.5167\n",
            "Epoch 114/150\n",
            "1563/1563 [==============================] - 3s 2ms/step - loss: 0.5198\n",
            "Epoch 115/150\n",
            "1563/1563 [==============================] - 3s 2ms/step - loss: 0.5190\n",
            "Epoch 116/150\n",
            "1563/1563 [==============================] - 3s 2ms/step - loss: 0.5185\n",
            "Epoch 117/150\n",
            "1563/1563 [==============================] - 3s 2ms/step - loss: 0.5237\n",
            "Epoch 118/150\n",
            "1563/1563 [==============================] - 3s 2ms/step - loss: 0.5191\n",
            "Epoch 119/150\n",
            "1563/1563 [==============================] - 3s 2ms/step - loss: 0.5209\n",
            "Epoch 120/150\n",
            "1563/1563 [==============================] - 3s 2ms/step - loss: 0.5231\n",
            "Epoch 121/150\n",
            "1563/1563 [==============================] - 3s 2ms/step - loss: 0.5177\n",
            "Epoch 122/150\n",
            "1563/1563 [==============================] - 3s 2ms/step - loss: 0.5163\n",
            "Epoch 123/150\n",
            "1563/1563 [==============================] - 3s 2ms/step - loss: 0.5203\n",
            "Epoch 124/150\n",
            "1563/1563 [==============================] - 3s 2ms/step - loss: 0.5185\n",
            "Epoch 125/150\n",
            "1563/1563 [==============================] - 3s 2ms/step - loss: 0.5236\n",
            "Epoch 126/150\n",
            "1563/1563 [==============================] - 3s 2ms/step - loss: 0.5213\n",
            "Epoch 127/150\n",
            "1563/1563 [==============================] - 3s 2ms/step - loss: 0.5155\n",
            "Epoch 128/150\n",
            "1563/1563 [==============================] - 3s 2ms/step - loss: 0.5222\n",
            "Epoch 129/150\n",
            "1563/1563 [==============================] - 3s 2ms/step - loss: 0.5189\n",
            "Epoch 130/150\n",
            "1563/1563 [==============================] - 3s 2ms/step - loss: 0.5203\n",
            "Epoch 131/150\n",
            "1563/1563 [==============================] - 3s 2ms/step - loss: 0.5221\n",
            "Epoch 132/150\n",
            "1563/1563 [==============================] - 3s 2ms/step - loss: 0.5180\n",
            "Epoch 133/150\n",
            "1563/1563 [==============================] - 3s 2ms/step - loss: 0.5200\n",
            "Epoch 134/150\n",
            "1563/1563 [==============================] - 3s 2ms/step - loss: 0.5225\n",
            "Epoch 135/150\n",
            "1563/1563 [==============================] - 3s 2ms/step - loss: 0.5198\n",
            "Epoch 136/150\n",
            "1563/1563 [==============================] - 3s 2ms/step - loss: 0.5194\n",
            "Epoch 137/150\n",
            "1563/1563 [==============================] - 3s 2ms/step - loss: 0.5196\n",
            "Epoch 138/150\n",
            "1563/1563 [==============================] - 3s 2ms/step - loss: 0.5219\n",
            "Epoch 139/150\n",
            "1563/1563 [==============================] - 3s 2ms/step - loss: 0.5185\n",
            "Epoch 140/150\n",
            "1563/1563 [==============================] - 3s 2ms/step - loss: 0.5178\n",
            "Epoch 141/150\n",
            "1563/1563 [==============================] - 3s 2ms/step - loss: 0.5220\n",
            "Epoch 142/150\n",
            "1563/1563 [==============================] - 3s 2ms/step - loss: 0.5223\n",
            "Epoch 143/150\n",
            "1563/1563 [==============================] - 3s 2ms/step - loss: 0.5190\n",
            "Epoch 144/150\n",
            "1563/1563 [==============================] - 3s 2ms/step - loss: 0.5207\n",
            "Epoch 145/150\n",
            "1563/1563 [==============================] - 3s 2ms/step - loss: 0.5192\n",
            "Epoch 146/150\n",
            "1563/1563 [==============================] - 3s 2ms/step - loss: 0.5213\n",
            "Epoch 147/150\n",
            "1563/1563 [==============================] - 3s 2ms/step - loss: 0.5202\n",
            "Epoch 148/150\n",
            "1563/1563 [==============================] - 3s 2ms/step - loss: 0.5197\n",
            "Epoch 149/150\n",
            "1563/1563 [==============================] - 3s 2ms/step - loss: 0.5210\n",
            "Epoch 150/150\n",
            "1563/1563 [==============================] - 3s 2ms/step - loss: 0.5216\n"
          ]
        },
        {
          "output_type": "execute_result",
          "data": {
            "text/plain": [
              "<keras.callbacks.History at 0x7fbf39377890>"
            ]
          },
          "metadata": {},
          "execution_count": 9
        }
      ]
    },
    {
      "cell_type": "markdown",
      "source": [
        "# Encoder"
      ],
      "metadata": {
        "id": "CBhIz2mNJHZe"
      }
    },
    {
      "cell_type": "code",
      "source": [
        "encoder = Model(input_signal, encoded3)                   # Model of Encoder is Defined here  "
      ],
      "metadata": {
        "id": "BYWkzH-JdD-z"
      },
      "execution_count": 10,
      "outputs": []
    },
    {
      "cell_type": "markdown",
      "source": [
        "# Decoder "
      ],
      "metadata": {
        "id": "quDydVnmJMJe"
      }
    },
    {
      "cell_type": "code",
      "source": [
        "encoded_input = Input(shape=(n,))                         # Model for decoder is defined here  \n",
        "\n",
        "decoder_1 = autoencoder.layers[-2](encoded_input)         # Second last layer of the defined Autoencoder \n",
        "decoder_2 = autoencoder.layers[-1](decoder_1)             # Last layer of the defined Autoencoder \n",
        "decoder = Model(encoded_input, decoder_2)                                 "
      ],
      "metadata": {
        "id": "AtTTid3VdHRz"
      },
      "execution_count": 11,
      "outputs": []
    },
    {
      "cell_type": "markdown",
      "source": [
        "# Generating Test data "
      ],
      "metadata": {
        "id": "1zr1VftzNtaw"
      }
    },
    {
      "cell_type": "code",
      "source": [
        "test_samples = 10000                                      # Size of test samples \n",
        "                                                                                \n",
        "test_labels = np.random.randint(L_o_m,size=test_samples)  # Test data of size 10000 is created with all values enclosed between 0 and M\n",
        "test_data = []\n",
        "\n",
        "for i in test_labels:\n",
        "    test_vector = np.zeros(L_o_m)                         # Numpy array of size M is created with all entries equal to zero \n",
        "    test_vector[i] = 1                                    # performing One hot encoding on each entry of 10000\n",
        "    test_data.append(test_vector)\n",
        "    \n",
        "test_data = np.array(test_data)                           # Test data is converted to numpy array \n",
        "print(test_data.shape)                                    # Shape of test_data is given by (10000*M)"
      ],
      "metadata": {
        "id": "1sMlQgCUdLvr",
        "colab": {
          "base_uri": "https://localhost:8080/"
        },
        "outputId": "e3bc0e43-5454-4868-9dba-b6b1a339e344"
      },
      "execution_count": 12,
      "outputs": [
        {
          "output_type": "stream",
          "name": "stdout",
          "text": [
            "(10000, 16)\n"
          ]
        }
      ]
    },
    {
      "cell_type": "code",
      "source": [
        "test_num = 99                                             # Verifying the onehot encoding on generated test data \n",
        "print (test_data[test_num],test_labels[test_num])"
      ],
      "metadata": {
        "colab": {
          "base_uri": "https://localhost:8080/"
        },
        "id": "pm9hoWPPdNVT",
        "outputId": "3ca183b8-4034-4aad-fbf3-e01ef89cc5e2"
      },
      "execution_count": 13,
      "outputs": [
        {
          "output_type": "stream",
          "name": "stdout",
          "text": [
            "[0. 0. 0. 0. 0. 0. 0. 1. 0. 0. 0. 0. 0. 0. 0. 0.] 7\n"
          ]
        }
      ]
    },
    {
      "cell_type": "markdown",
      "source": [
        "# Constellation Diagram\n",
        "Every message in the message space is encode to draw constellation diagram "
      ],
      "metadata": {
        "id": "1CulcMPYOglR"
      }
    },
    {
      "cell_type": "code",
      "source": [
        "scatter_plot = []                                                                \n",
        "for i in range(0,L_o_m):                                  # For all the messages in the message space \n",
        "    array1 = np.zeros(L_o_m)                              # Generating numpy array of size (L_o_m) with all entries equal to zero \n",
        "    \n",
        "    array1[i] = 1                                         # onehot encoding of the each message\n",
        "    scatter_plot.append(encoder.predict(np.expand_dims(array1,axis=0)))      # Encoding every possible entry of Messages needed to be sent \n",
        "scatter_plot = np.array(scatter_plot)                     # As you can see for each of the sixteen possible values there is a complex representation \n",
        "print (scatter_plot.shape)"
      ],
      "metadata": {
        "colab": {
          "base_uri": "https://localhost:8080/"
        },
        "id": "M5O_d2o9dV-s",
        "outputId": "c6edd9d6-aa43-4ee7-af18-8c7533a7b4ed"
      },
      "execution_count": 14,
      "outputs": [
        {
          "output_type": "stream",
          "name": "stdout",
          "text": [
            "(16, 1, 2)\n"
          ]
        }
      ]
    },
    {
      "cell_type": "code",
      "source": [
        "scatter_plot = scatter_plot.reshape(L_o_m,2,1)            # Constellation diagram\n",
        "plt.scatter(scatter_plot[:,0],scatter_plot[:,1] )         # quadrature phase shift keying (QPSK) for (2,2)\n",
        "plt.axis((-2.5,3.5,-2.5,2.5))                             # Rotated 16 PSK constellation for (2,4)\n",
        "\n",
        "plt.grid()\n",
        "plt.show()"
      ],
      "metadata": {
        "colab": {
          "base_uri": "https://localhost:8080/",
          "height": 265
        },
        "id": "eUplxgHfdoFz",
        "outputId": "3e8308de-ded0-4c65-ee4b-877142264986"
      },
      "execution_count": 15,
      "outputs": [
        {
          "output_type": "display_data",
          "data": {
            "text/plain": [
              "<Figure size 432x288 with 1 Axes>"
            ],
            "image/png": "[encoded data removed]"
          },
          "metadata": {
            "needs_background": "light"
          }
        }
      ]
    },
    {
      "cell_type": "markdown",
      "source": [
        "# Calculating Bit Error Rate "
      ],
      "metadata": {
        "id": "ztU93yDPO2Lx"
      }
    },
    {
      "cell_type": "code",
      "source": [
        "def frange(i, j, jump):                 # For represnting SNR after overy 0.5 db interval \n",
        "  while i < j:\n",
        "    yield i\n",
        "    i += jump"
      ],
      "metadata": {
        "id": "jjRI-2yKdrNz"
      },
      "execution_count": 16,
      "outputs": []
    },
    {
      "cell_type": "code",
      "source": [
        "SNR_range = list(frange(-4,12,0.5))                             # Range of SNR \n",
        "print(len(SNR_range))                                           # In total there are 25 intervals\n",
        "  \n",
        "BER = [None]*len(SNR_range)                                                  \n",
        "                                                 \n",
        "for x in range(0,len(SNR_range)):                               # for each of the value of SNR \n",
        "    EbNo=10.0**(SNR_range[x]/10.0)                              # to covert each value of SNR from db's\n",
        "    noise_std = np.sqrt(1/(2*R*EbNo))                           # Standard deviation of the added noise layer \n",
        "    mean = 0                                                    # Mean of the added noise layer \n",
        "    errors = 0\n",
        "    \n",
        "    noise = noise_std * np.random.randn(test_samples,n)         # Noise is added to encoded data\n",
        "    encoded_vector = encoder.predict(test_data)                 # Encoded test data \n",
        "    noise_added_vector = encoded_vector + noise                 # Encoded test data + Noise\n",
        "\n",
        "    decoded_vector =  decoder.predict(noise_added_vector)       # Decoded data \n",
        "    pred_output = np.argmax(decoded_vector,axis=1)         # As the decoder last layer is Softmax so the index with the highest probabilty is chosen\n",
        "    errors = (pred_output != test_labels)                  # It checks for each of the test_sample is the predicted value is same as the original value \n",
        "    \n",
        "    errors =  errors.astype(int).sum()                          # Adds up the total Error bits in each of the iteration for test_samples values  \n",
        "        \n",
        "    BER[x] = errors / test_samples                              # BER is given by total wrongly identified examples over total number of Examples\n",
        "\n",
        "    print ('SNR (Signal to noise ratio):',SNR_range[x],'BER (Bit Error Rate):',BER[x])"
      ],
      "metadata": {
        "colab": {
          "base_uri": "https://localhost:8080/"
        },
        "id": "8CICwsaTdx5c",
        "outputId": "e93683a1-eaf5-4c1b-9c46-6a598dab7e8a"
      },
      "execution_count": 17,
      "outputs": [
        {
          "output_type": "stream",
          "name": "stdout",
          "text": [
            "32\n",
            "SNR (Signal to noise ratio): -4 BER (Bit Error Rate): 0.7223\n",
            "SNR (Signal to noise ratio): -3.5 BER (Bit Error Rate): 0.7088\n",
            "SNR (Signal to noise ratio): -3.0 BER (Bit Error Rate): 0.6977\n",
            "SNR (Signal to noise ratio): -2.5 BER (Bit Error Rate): 0.6833\n",
            "SNR (Signal to noise ratio): -2.0 BER (Bit Error Rate): 0.6719\n",
            "SNR (Signal to noise ratio): -1.5 BER (Bit Error Rate): 0.6466\n",
            "SNR (Signal to noise ratio): -1.0 BER (Bit Error Rate): 0.6148\n",
            "SNR (Signal to noise ratio): -0.5 BER (Bit Error Rate): 0.6104\n",
            "SNR (Signal to noise ratio): 0.0 BER (Bit Error Rate): 0.575\n",
            "SNR (Signal to noise ratio): 0.5 BER (Bit Error Rate): 0.5626\n",
            "SNR (Signal to noise ratio): 1.0 BER (Bit Error Rate): 0.536\n",
            "SNR (Signal to noise ratio): 1.5 BER (Bit Error Rate): 0.5144\n",
            "SNR (Signal to noise ratio): 2.0 BER (Bit Error Rate): 0.4945\n",
            "SNR (Signal to noise ratio): 2.5 BER (Bit Error Rate): 0.463\n",
            "SNR (Signal to noise ratio): 3.0 BER (Bit Error Rate): 0.4276\n",
            "SNR (Signal to noise ratio): 3.5 BER (Bit Error Rate): 0.4075\n",
            "SNR (Signal to noise ratio): 4.0 BER (Bit Error Rate): 0.3868\n",
            "SNR (Signal to noise ratio): 4.5 BER (Bit Error Rate): 0.3569\n",
            "SNR (Signal to noise ratio): 5.0 BER (Bit Error Rate): 0.3278\n",
            "SNR (Signal to noise ratio): 5.5 BER (Bit Error Rate): 0.3049\n",
            "SNR (Signal to noise ratio): 6.0 BER (Bit Error Rate): 0.2714\n",
            "SNR (Signal to noise ratio): 6.5 BER (Bit Error Rate): 0.2477\n",
            "SNR (Signal to noise ratio): 7.0 BER (Bit Error Rate): 0.2264\n",
            "SNR (Signal to noise ratio): 7.5 BER (Bit Error Rate): 0.1898\n",
            "SNR (Signal to noise ratio): 8.0 BER (Bit Error Rate): 0.1648\n",
            "SNR (Signal to noise ratio): 8.5 BER (Bit Error Rate): 0.1455\n",
            "SNR (Signal to noise ratio): 9.0 BER (Bit Error Rate): 0.116\n",
            "SNR (Signal to noise ratio): 9.5 BER (Bit Error Rate): 0.1057\n",
            "SNR (Signal to noise ratio): 10.0 BER (Bit Error Rate): 0.0832\n",
            "SNR (Signal to noise ratio): 10.5 BER (Bit Error Rate): 0.0681\n",
            "SNR (Signal to noise ratio): 11.0 BER (Bit Error Rate): 0.0564\n",
            "SNR (Signal to noise ratio): 11.5 BER (Bit Error Rate): 0.0407\n"
          ]
        }
      ]
    },
    {
      "cell_type": "markdown",
      "source": [
        "# Plot of Bit Error Rate against Range of SNR"
      ],
      "metadata": {
        "id": "4DWbspcUp439"
      }
    },
    {
      "cell_type": "code",
      "source": [
        "\n",
        "plt.plot(SNR_range, BER, 'bo',label='Autoencoder(2,4)')\n",
        "plt.yscale('log')\n",
        "plt.xlabel('SNR Range')\n",
        "plt.ylabel('Block Error Rate')\n",
        "plt.grid()\n",
        "plt.legend(loc='upper right',ncol = 1)"
      ],
      "metadata": {
        "colab": {
          "base_uri": "https://localhost:8080/",
          "height": 296
        },
        "id": "GrswTvJod9Xs",
        "outputId": "3ad76239-5ddb-4de1-cf32-16ddebd61ee1"
      },
      "execution_count": 18,
      "outputs": [
        {
          "output_type": "execute_result",
          "data": {
            "text/plain": [
              "<matplotlib.legend.Legend at 0x7fbf34d3cd50>"
            ]
          },
          "metadata": {},
          "execution_count": 18
        },
        {
          "output_type": "display_data",
          "data": {
            "text/plain": [
              "<Figure size 432x288 with 1 Axes>"
            ],
            "image/png": "[encoded data removed]"
          },
          "metadata": {
            "needs_background": "light"
          }
        }
      ]
    }
  ]
}