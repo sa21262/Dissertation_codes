{
  "nbformat": 4,
  "nbformat_minor": 0,
  "metadata": {
    "colab": {
      "name": "(7,4)b_(1)_(1).ipynb",
      "provenance": [],
      "collapsed_sections": []
    },
    "kernelspec": {
      "name": "python3",
      "display_name": "Python 3"
    },
    "language_info": {
      "name": "python"
    }
  },
  "cells": [
    {
      "cell_type": "markdown",
      "source": [
        "# Required Libraries  "
      ],
      "metadata": {
        "id": "CW8m7EYH-NH6"
      }
    },
    {
      "cell_type": "code",
      "execution_count": 1,
      "metadata": {
        "id": "rpECXu6zYkIF"
      },
      "outputs": [],
      "source": [
        "import numpy as np\n",
        "import tensorflow as tf\n",
        "import keras\n",
        "from keras.layers import Input, Dense, GaussianNoise, Lambda\n",
        "from keras.models import Model\n",
        "from keras import backend as K\n",
        "%matplotlib inline\n",
        "import matplotlib.pyplot as plt\n",
        "from tensorflow.keras.layers import BatchNormalization\n",
        "from tensorflow.keras.optimizers import Adam\n",
        "from keras.models import load_model\n",
        "from keras.constraints import max_norm \n",
        "from numpy.random import seed\n",
        "seed(1)\n",
        "from tensorflow.keras.utils import set_random_seed\n",
        "set_random_seed(3)                                                 \n",
        "from scipy import interpolate\n",
        "from sklearn.manifold import TSNE\n"
      ]
    },
    {
      "cell_type": "markdown",
      "source": [
        "# Parameters Declaration \n",
        "Lenght of Message space, Number of bits per symbol, number of channel uses\n",
        "and Rate of communication is defined here. "
      ],
      "metadata": {
        "id": "2zTzktIN_LAj"
      }
    },
    {
      "cell_type": "code",
      "source": [
        "L_o_m  = 16                                   # Lenght of Message space(M) given by 2^number of bits \n",
        "bits = np.log2(L_o_m)                         # Number of bits \n",
        "bits = int(bits)                              # Converting it to int \n",
        "n = 7                                         # Number of channels(n) \n",
        "R = bits/n                                    # Communication rate(R) given by number of bits divided by number of channels \n",
        "\n",
        "print ('Lenght of Message space (M):',L_o_m,'Number of bits (k):',bits,'Number of channels (n):',n)"
      ],
      "metadata": {
        "colab": {
          "base_uri": "https://localhost:8080/"
        },
        "id": "UqlokJnxa0P-",
        "outputId": "8be6968b-f3b9-4caa-84ad-3b31d79fdd62"
      },
      "execution_count": 2,
      "outputs": [
        {
          "output_type": "stream",
          "name": "stdout",
          "text": [
            "Lenght of Message space (M): 16 Number of bits (k): 4 Number of channels (n): 7\n"
          ]
        }
      ]
    },
    {
      "cell_type": "markdown",
      "source": [
        "# Generating training data"
      ],
      "metadata": {
        "id": "rHe_SSueADk9"
      }
    },
    {
      "cell_type": "code",
      "source": [
        "samples = 100000\n",
        "labels = np.random.randint(L_o_m , size=samples)     # generating N random numbers whose values are enclosed between 0 and (M-1)"
      ],
      "metadata": {
        "id": "01xhM5MWa4Jl"
      },
      "execution_count": 3,
      "outputs": []
    },
    {
      "cell_type": "markdown",
      "source": [
        "# Performing Onehot Encoding\n",
        "Each of the message in generated message space is onehot encoded. "
      ],
      "metadata": {
        "id": "TJPJNPzJAko9"
      }
    },
    {
      "cell_type": "code",
      "source": [
        "training_data = []                                   # Creating a empty list \n",
        "for i in labels:                         \n",
        "    inp_vector = np.zeros(L_o_m)                     # Creating a numpy array of size M                                                    \n",
        "    inp_vector[i] = 1                                # Performing one hot encoding \n",
        "    training_data.append(inp_vector) \n",
        "\n"
      ],
      "metadata": {
        "id": "fZA-OwDvboBl"
      },
      "execution_count": 4,
      "outputs": []
    },
    {
      "cell_type": "code",
      "source": [
        "training_data = np.array(training_data)              # Transforming data to numpy array\n",
        "print (training_data.shape)                          # Each of the sample out of the N generated samples is onehot encoded to vector of size M "
      ],
      "metadata": {
        "colab": {
          "base_uri": "https://localhost:8080/"
        },
        "id": "_ppnpj4ubrsF",
        "outputId": "c905b97c-32d8-4ddb-df0e-5a3d929c312d"
      },
      "execution_count": 5,
      "outputs": [
        {
          "output_type": "stream",
          "name": "stdout",
          "text": [
            "(100000, 16)\n"
          ]
        }
      ]
    },
    {
      "cell_type": "markdown",
      "source": [
        "Verifying the one hot encoding performed on the generated data.  \n"
      ],
      "metadata": {
        "id": "diWa01MlD-ic"
      }
    },
    {
      "cell_type": "code",
      "source": [
        "check_list = [23,45,97,115,278,369]\n",
        "for i in check_list:\n",
        "    print(labels[i],training_data[i])"
      ],
      "metadata": {
        "colab": {
          "base_uri": "https://localhost:8080/"
        },
        "id": "SwwdatTObvhc",
        "outputId": "6a126d85-4fb1-4058-c8dc-c7a0c7261a11"
      },
      "execution_count": 6,
      "outputs": [
        {
          "output_type": "stream",
          "name": "stdout",
          "text": [
            "14 [0. 0. 0. 0. 0. 0. 0. 0. 0. 0. 0. 0. 0. 0. 1. 0.]\n",
            "7 [0. 0. 0. 0. 0. 0. 0. 1. 0. 0. 0. 0. 0. 0. 0. 0.]\n",
            "0 [1. 0. 0. 0. 0. 0. 0. 0. 0. 0. 0. 0. 0. 0. 0. 0.]\n",
            "0 [1. 0. 0. 0. 0. 0. 0. 0. 0. 0. 0. 0. 0. 0. 0. 0.]\n",
            "2 [0. 0. 1. 0. 0. 0. 0. 0. 0. 0. 0. 0. 0. 0. 0. 0.]\n",
            "7 [0. 0. 0. 0. 0. 0. 0. 1. 0. 0. 0. 0. 0. 0. 0. 0.]\n"
          ]
        }
      ]
    },
    {
      "cell_type": "markdown",
      "source": [
        "# Defining the architecture of Autoencoder"
      ],
      "metadata": {
        "id": "H2uQEQoIFBWw"
      }
    },
    {
      "cell_type": "code",
      "source": [
        "input_signal = Input(shape=(L_o_m,))                        # After performing one hot encoding each input is vector of size M\n",
        "encoded1 = Dense(L_o_m, activation='relu')(input_signal)    # First layer is dense layer with relu activation function and M nuerons  \n",
        "encoded2 = Dense(n, activation='linear')(encoded1)          # Second layer is dense layer with linear activaton function and n_channel nuerons \n",
        "\n",
        "encoded3 = BatchNormalization(gamma_constraint=max_norm(1.4142136))(encoded2) \n",
        "                                                            # encoded3 = Lambda(lambda x: np.sqrt(n)*K.l2_normalize(x,axis=1))(encoded2)     \n",
        "                                                            # Normalisation is performed to met the physical constraints (Average power Constraint)\n",
        "\n",
        "EbNo_train = 5.01187                                        # coverted 7 db of EbNo\n",
        "                                                            # 10log(EbNo) = 7 db\n",
        "encoded4 = GaussianNoise(np.sqrt(1/(2*R*EbNo_train)))(encoded3)                 \n",
        "                                                            # As Variance is given by (1/(2*R*EbNo_train) \n",
        "                                                            # Gausian noise is added by this layer \n",
        "\n",
        "decoded1 = Dense(L_o_m, activation='relu')(encoded4)        # First layer of the decoder is dense layer with-\n",
        "                                                            #-relu activation function and total M nuerons.\n",
        "\n",
        "decoded2 = Dense(L_o_m, activation='softmax')(decoded1)     # Second layer of the decoder is dense layer with-\n",
        "                                                            #-softmax activation function which outputs the probabilities \n",
        "\n",
        "\n",
        "autoencoder = Model(input_signal, decoded2)                 # Autoencoder model is defined here \n",
        "adam = Adam(learning_rate=0.001)                            # Adam optimizer is used with learning rate 0.001 to minimise the loss \n",
        "\n",
        "autoencoder.compile(optimizer=adam, loss='categorical_crossentropy')    \n",
        "                                                            # Autoencoder is compiled here and loss is defined as categorical crossentropy-\n",
        "                                                            #-between the onehot encoded input vector and the output of the decoder "
      ],
      "metadata": {
        "id": "-FNphna1bxfk"
      },
      "execution_count": 7,
      "outputs": []
    },
    {
      "cell_type": "markdown",
      "source": [
        "# Summary of Autoencoder"
      ],
      "metadata": {
        "id": "7xS2b5trFX2r"
      }
    },
    {
      "cell_type": "code",
      "source": [
        "print (autoencoder.summary())"
      ],
      "metadata": {
        "colab": {
          "base_uri": "https://localhost:8080/"
        },
        "id": "4o2A_DywcfK1",
        "outputId": "35d6ffa5-8a74-4964-989b-80fcc1343a3e"
      },
      "execution_count": 8,
      "outputs": [
        {
          "output_type": "stream",
          "name": "stdout",
          "text": [
            "Model: \"model\"\n",
            "_________________________________________________________________\n",
            " Layer (type)                Output Shape              Param #   \n",
            "=================================================================\n",
            " input_1 (InputLayer)        [(None, 16)]              0         \n",
            "                                                                 \n",
            " dense (Dense)               (None, 16)                272       \n",
            "                                                                 \n",
            " dense_1 (Dense)             (None, 7)                 119       \n",
            "                                                                 \n",
            " batch_normalization (BatchN  (None, 7)                28        \n",
            " ormalization)                                                   \n",
            "                                                                 \n",
            " gaussian_noise (GaussianNoi  (None, 7)                0         \n",
            " se)                                                             \n",
            "                                                                 \n",
            " dense_2 (Dense)             (None, 16)                128       \n",
            "                                                                 \n",
            " dense_3 (Dense)             (None, 16)                272       \n",
            "                                                                 \n",
            "=================================================================\n",
            "Total params: 819\n",
            "Trainable params: 805\n",
            "Non-trainable params: 14\n",
            "_________________________________________________________________\n",
            "None\n"
          ]
        }
      ]
    },
    {
      "cell_type": "markdown",
      "source": [
        "# Generating validation data "
      ],
      "metadata": {
        "id": "1zr1VftzNtaw"
      }
    },
    {
      "cell_type": "code",
      "source": [
        "v_samples = 10000                                   # Size of validation samples \n",
        "                                                                                \n",
        "v_labels = np.random.randint(L_o_m,size=v_samples)  # Validation data of size N is created with all values enclosed between 0 and M\n",
        "v_data = []\n",
        "\n",
        "for i in v_labels:\n",
        "    v_vector = np.zeros(L_o_m)                      # Numpy array of size M is created with all entries equal to zero \n",
        "    v_vector[i] = 1                                 # performing One hot encoding on each entry of v_samples \n",
        "    v_data.append(v_vector)\n",
        "    \n",
        "v_data = np.array(v_data)                           # v_samples data is converted to numpy array \n",
        "print(v_data.shape)                                 # Shape of test_data is given by (v_samples*M)"
      ],
      "metadata": {
        "id": "1sMlQgCUdLvr",
        "colab": {
          "base_uri": "https://localhost:8080/"
        },
        "outputId": "8241f300-b22c-4680-9aff-774beccf96b8"
      },
      "execution_count": 9,
      "outputs": [
        {
          "output_type": "stream",
          "name": "stdout",
          "text": [
            "(10000, 16)\n"
          ]
        }
      ]
    },
    {
      "cell_type": "code",
      "source": [
        "test_num = 89                                                                   # Verifying the onehot encoding on generated test data \n",
        "print (v_data[test_num],v_labels[test_num])"
      ],
      "metadata": {
        "colab": {
          "base_uri": "https://localhost:8080/"
        },
        "id": "pm9hoWPPdNVT",
        "outputId": "ee531c64-d3f9-4d5a-e479-f420bbef0800"
      },
      "execution_count": 10,
      "outputs": [
        {
          "output_type": "stream",
          "name": "stdout",
          "text": [
            "[0. 1. 0. 0. 0. 0. 0. 0. 0. 0. 0. 0. 0. 0. 0. 0.] 1\n"
          ]
        }
      ]
    },
    {
      "cell_type": "markdown",
      "source": [
        "# Training the model "
      ],
      "metadata": {
        "id": "KsIqAPGUFjdr"
      }
    },
    {
      "cell_type": "code",
      "source": [
        "autoencoder.fit(training_data, training_data, epochs=20, batch_size=300,validation_data=(v_data, v_data))        # Autoencoder is fitted with the generated data                                         "
      ],
      "metadata": {
        "colab": {
          "base_uri": "https://localhost:8080/"
        },
        "id": "5zk1GFPac4-M",
        "outputId": "1a566881-090f-4fc8-d114-da7b92315b3d"
      },
      "execution_count": 11,
      "outputs": [
        {
          "output_type": "stream",
          "name": "stdout",
          "text": [
            "Epoch 1/20\n",
            "334/334 [==============================] - 3s 6ms/step - loss: 1.6752 - val_loss: 0.8290\n",
            "Epoch 2/20\n",
            "334/334 [==============================] - 1s 4ms/step - loss: 0.6322 - val_loss: 0.0626\n",
            "Epoch 3/20\n",
            "334/334 [==============================] - 1s 4ms/step - loss: 0.4173 - val_loss: 0.0159\n",
            "Epoch 4/20\n",
            "334/334 [==============================] - 1s 3ms/step - loss: 0.3577 - val_loss: 0.0067\n",
            "Epoch 5/20\n",
            "334/334 [==============================] - 1s 4ms/step - loss: 0.3358 - val_loss: 0.0036\n",
            "Epoch 6/20\n",
            "334/334 [==============================] - 1s 4ms/step - loss: 0.3268 - val_loss: 0.0024\n",
            "Epoch 7/20\n",
            "334/334 [==============================] - 1s 4ms/step - loss: 0.3108 - val_loss: 0.0017\n",
            "Epoch 8/20\n",
            "334/334 [==============================] - 1s 4ms/step - loss: 0.3145 - val_loss: 0.0014\n",
            "Epoch 9/20\n",
            "334/334 [==============================] - 2s 5ms/step - loss: 0.3046 - val_loss: 0.0012\n",
            "Epoch 10/20\n",
            "334/334 [==============================] - 1s 4ms/step - loss: 0.3030 - val_loss: 0.0010\n",
            "Epoch 11/20\n",
            "334/334 [==============================] - 1s 4ms/step - loss: 0.3011 - val_loss: 9.4029e-04\n",
            "Epoch 12/20\n",
            "334/334 [==============================] - 1s 4ms/step - loss: 0.2966 - val_loss: 8.5159e-04\n",
            "Epoch 13/20\n",
            "334/334 [==============================] - 1s 4ms/step - loss: 0.2990 - val_loss: 8.2312e-04\n",
            "Epoch 14/20\n",
            "334/334 [==============================] - 1s 3ms/step - loss: 0.2969 - val_loss: 7.9479e-04\n",
            "Epoch 15/20\n",
            "334/334 [==============================] - 2s 5ms/step - loss: 0.2953 - val_loss: 7.5698e-04\n",
            "Epoch 16/20\n",
            "334/334 [==============================] - 2s 5ms/step - loss: 0.2871 - val_loss: 7.0917e-04\n",
            "Epoch 17/20\n",
            "334/334 [==============================] - 2s 5ms/step - loss: 0.2906 - val_loss: 7.0675e-04\n",
            "Epoch 18/20\n",
            "334/334 [==============================] - 2s 5ms/step - loss: 0.2865 - val_loss: 7.0082e-04\n",
            "Epoch 19/20\n",
            "334/334 [==============================] - 1s 2ms/step - loss: 0.2860 - val_loss: 6.7497e-04\n",
            "Epoch 20/20\n",
            "334/334 [==============================] - 1s 2ms/step - loss: 0.2860 - val_loss: 6.6333e-04\n"
          ]
        },
        {
          "output_type": "execute_result",
          "data": {
            "text/plain": [
              "<keras.callbacks.History at 0x7f3d4e056d90>"
            ]
          },
          "metadata": {},
          "execution_count": 11
        }
      ]
    },
    {
      "cell_type": "markdown",
      "source": [
        "# Encoder"
      ],
      "metadata": {
        "id": "CBhIz2mNJHZe"
      }
    },
    {
      "cell_type": "code",
      "source": [
        "encoder = Model(input_signal, encoded3)                    # Model of Encoder is Defined here  "
      ],
      "metadata": {
        "id": "BYWkzH-JdD-z"
      },
      "execution_count": 12,
      "outputs": []
    },
    {
      "cell_type": "markdown",
      "source": [
        "# Decoder "
      ],
      "metadata": {
        "id": "quDydVnmJMJe"
      }
    },
    {
      "cell_type": "code",
      "source": [
        "encoded_input = Input(shape=(n,))                          # Model for decoder is defined here  \n",
        "\n",
        "decoder_1 = autoencoder.layers[-2](encoded_input)          # Second last layer of the defined Autoencoder \n",
        "decoder_2 = autoencoder.layers[-1](decoder_1)              # Last layer of the defined Autoencoder \n",
        "decoder = Model(encoded_input, decoder_2)                                 "
      ],
      "metadata": {
        "id": "AtTTid3VdHRz"
      },
      "execution_count": 13,
      "outputs": []
    },
    {
      "cell_type": "markdown",
      "source": [
        "# Generating Test data"
      ],
      "metadata": {
        "id": "JjyYM3M26tgC"
      }
    },
    {
      "cell_type": "code",
      "source": [
        "test_samples = 1500                                 # Size of test samples \n",
        "                                                                                \n",
        "test_labels = np.random.randint(L_o_m,size=test_samples)  \n",
        "                                                    # Test data of size N is created with all values enclosed between 0 and M\n",
        "test_data = []\n",
        "\n",
        "for i in test_labels:\n",
        "    test_vector = np.zeros(L_o_m)                   # Numpy array of size M is created with all entries equal to zero \n",
        "    test_vector[i] = 1                              # performing One hot encoding on each entry of N \n",
        "    test_data.append(test_vector)\n",
        "    \n",
        "test_data = np.array(test_data)                     # Test data is converted to numpy array \n",
        "print(test_data.shape)                              # Shape of test_data is given by (N*M)"
      ],
      "metadata": {
        "colab": {
          "base_uri": "https://localhost:8080/"
        },
        "id": "J8dCdLWv6dGo",
        "outputId": "599c4388-5a95-465e-a60c-19ab609bcde0"
      },
      "execution_count": 14,
      "outputs": [
        {
          "output_type": "stream",
          "name": "stdout",
          "text": [
            "(1500, 16)\n"
          ]
        }
      ]
    },
    {
      "cell_type": "code",
      "source": [
        "test_num = 99                                       # Verifying the onehot encoding on generated test data \n",
        "print (test_data[test_num],test_labels[test_num])"
      ],
      "metadata": {
        "colab": {
          "base_uri": "https://localhost:8080/"
        },
        "id": "fT9x6ifj6lG_",
        "outputId": "70f6087e-b5c9-4346-f983-6114f876ab07"
      },
      "execution_count": 15,
      "outputs": [
        {
          "output_type": "stream",
          "name": "stdout",
          "text": [
            "[0. 0. 0. 0. 1. 0. 0. 0. 0. 0. 0. 0. 0. 0. 0. 0.] 4\n"
          ]
        }
      ]
    },
    {
      "cell_type": "markdown",
      "source": [
        "# Constellation Diagram\n",
        "Every message in the message space is encode to draw constellation diagram "
      ],
      "metadata": {
        "id": "1CulcMPYOglR"
      }
    },
    {
      "cell_type": "code",
      "source": [
        "scatter_plot = []                                                                \n",
        "for i in range(0,L_o_m):                            # For all the messages in the message space \n",
        "    array1 = np.zeros(L_o_m)\n",
        "    \n",
        "    array1[i] = 1                                   # onehot encoding of the each message\n",
        "    scatter_plot.append(encoder.predict(np.expand_dims(array1,axis=0)))         \n",
        "                                                    # Encoding every possible entry of Messages needed to be sent \n",
        "scatter_plot = np.array(scatter_plot)               # As you can see for each of the sixteen possible values there is a complex representation \n",
        "print (scatter_plot.shape)"
      ],
      "metadata": {
        "colab": {
          "base_uri": "https://localhost:8080/"
        },
        "id": "M5O_d2o9dV-s",
        "outputId": "e5e74e07-603f-4de7-df0a-64d97608e9fb"
      },
      "execution_count": 16,
      "outputs": [
        {
          "output_type": "stream",
          "name": "stdout",
          "text": [
            "(16, 1, 7)\n"
          ]
        }
      ]
    },
    {
      "cell_type": "code",
      "source": [
        "test_encoded = encoder.predict(test_data)           # Test data is subjected to encoder \n",
        "noise_std = np.sqrt(1/(2*R*EbNo_train))             # Standard deviation of noise with respect to given SNR\n",
        "noise = noise_std * np.random.randn(test_samples,n) # Generating noise \n",
        "test_encoded = test_encoded + noise                 # Noise is added \n",
        "\n",
        "T1 = TSNE(learning_rate= 'auto' , n_components=2,n_iter=35000, random_state=0, perplexity=50).fit_transform(test_encoded)       \n",
        "                                          # Noise added vector subjected to t-distributed stochastic neighbor embedding (t-SNE)\n",
        "                                          # t-distributed stochastic neighbor embedding (t-SNE) is a statistical method for \n",
        "                                          # visualizing high-dimensional data by giving each datapoint a location \n",
        "                                          # in a two or three-dimensional map.\n",
        "                                                    \n",
        "print (T1.shape)\n",
        "T1 = T1 / 7                               # seven channels \n",
        "\n",
        "plt.scatter(T1[:,0],T1[:,1])\n",
        " \n",
        "plt.grid()\n",
        "plt.show()"
      ],
      "metadata": {
        "colab": {
          "base_uri": "https://localhost:8080/",
          "height": 317
        },
        "id": "eUplxgHfdoFz",
        "outputId": "59f48f2e-2499-4a2a-ffa6-6ff4081753e2"
      },
      "execution_count": 17,
      "outputs": [
        {
          "output_type": "stream",
          "name": "stderr",
          "text": [
            "/usr/local/lib/python3.7/dist-packages/sklearn/manifold/_t_sne.py:783: FutureWarning: The default initialization in TSNE will change from 'random' to 'pca' in 1.2.\n",
            "  FutureWarning,\n"
          ]
        },
        {
          "output_type": "stream",
          "name": "stdout",
          "text": [
            "(1500, 2)\n"
          ]
        },
        {
          "output_type": "display_data",
          "data": {
            "text/plain": [
              "<Figure size 432x288 with 1 Axes>"
            ],
            "image/png": "[encoded data removed]"
          },
          "metadata": {
            "needs_background": "light"
          }
        }
      ]
    },
    {
      "cell_type": "markdown",
      "source": [
        "# Calculating Bit Error Rate "
      ],
      "metadata": {
        "id": "ztU93yDPO2Lx"
      }
    },
    {
      "cell_type": "code",
      "source": [
        "def frange(i, j, jump):                                   # For represnting SNR after overy 0.5 db interval \n",
        "  while i < j:\n",
        "    yield i\n",
        "    i += jump"
      ],
      "metadata": {
        "id": "jjRI-2yKdrNz"
      },
      "execution_count": 18,
      "outputs": []
    },
    {
      "cell_type": "code",
      "source": [
        "SNR_range = list(frange(-4,12,0.5))                       # Range of SNR \n",
        "print(len(SNR_range))                                     # In total there are 25 intervals\n",
        "  \n",
        "BER = [None]*len(SNR_range)                                                  \n",
        "                                                 \n",
        "for x in range(0,len(SNR_range)):                         # for each of the value of SNR \n",
        "    EbNo=10.0**(SNR_range[x]/10.0)                        # to covert each value of SNR from db's\n",
        "    noise_std = np.sqrt(1/(2*R*EbNo))                     # Standard deviation of the added noise layer \n",
        "    mean = 0                                              # Mean of the added noise layer \n",
        "    errors = 0\n",
        "    \n",
        "    noise = noise_std * np.random.randn(test_samples,n)   # Noise is added to encoded data\n",
        "    encoded_vector = encoder.predict(test_data)           # Encoded test data \n",
        "    noise_added_vector = encoded_vector + noise           # Encoded test data + Noise\n",
        "\n",
        "    decoded_vector =  decoder.predict(noise_added_vector) # Decoded data \n",
        "    pred_output = np.argmax(decoded_vector,axis=1) \n",
        "                                      # As the decoder last layer is Softmax so the index with the highest probabilty is chosen\n",
        "\n",
        "    errors = (pred_output != test_labels)           \n",
        "                                      # It checks for each of the test_sample is the predicted value is same as the original value \n",
        "    \n",
        "    errors =  errors.astype(int).sum()                   # Adds up the total Error bits in each of the iteration for N values  \n",
        "        \n",
        "    BER[x] = errors / test_samples                       # BER is given by total  wrongly identified examples over total number of Examples\n",
        "\n",
        "    print ('SNR (Signal to noise ratio):',SNR_range[x],'BER (Bit Error Rate):',BER[x])"
      ],
      "metadata": {
        "colab": {
          "base_uri": "https://localhost:8080/"
        },
        "id": "8CICwsaTdx5c",
        "outputId": "cc68df6c-1b32-443b-ee1a-6bb97d639124"
      },
      "execution_count": 19,
      "outputs": [
        {
          "output_type": "stream",
          "name": "stdout",
          "text": [
            "32\n",
            "SNR (Signal to noise ratio): -4 BER (Bit Error Rate): 0.7633333333333333\n",
            "SNR (Signal to noise ratio): -3.5 BER (Bit Error Rate): 0.718\n",
            "SNR (Signal to noise ratio): -3.0 BER (Bit Error Rate): 0.738\n",
            "SNR (Signal to noise ratio): -2.5 BER (Bit Error Rate): 0.6866666666666666\n",
            "SNR (Signal to noise ratio): -2.0 BER (Bit Error Rate): 0.6853333333333333\n",
            "SNR (Signal to noise ratio): -1.5 BER (Bit Error Rate): 0.6213333333333333\n",
            "SNR (Signal to noise ratio): -1.0 BER (Bit Error Rate): 0.6506666666666666\n",
            "SNR (Signal to noise ratio): -0.5 BER (Bit Error Rate): 0.618\n",
            "SNR (Signal to noise ratio): 0.0 BER (Bit Error Rate): 0.578\n",
            "SNR (Signal to noise ratio): 0.5 BER (Bit Error Rate): 0.5346666666666666\n",
            "SNR (Signal to noise ratio): 1.0 BER (Bit Error Rate): 0.5326666666666666\n",
            "SNR (Signal to noise ratio): 1.5 BER (Bit Error Rate): 0.49533333333333335\n",
            "SNR (Signal to noise ratio): 2.0 BER (Bit Error Rate): 0.44266666666666665\n",
            "SNR (Signal to noise ratio): 2.5 BER (Bit Error Rate): 0.4266666666666667\n",
            "SNR (Signal to noise ratio): 3.0 BER (Bit Error Rate): 0.392\n",
            "SNR (Signal to noise ratio): 3.5 BER (Bit Error Rate): 0.338\n",
            "SNR (Signal to noise ratio): 4.0 BER (Bit Error Rate): 0.31133333333333335\n",
            "SNR (Signal to noise ratio): 4.5 BER (Bit Error Rate): 0.24933333333333332\n",
            "SNR (Signal to noise ratio): 5.0 BER (Bit Error Rate): 0.21533333333333332\n",
            "SNR (Signal to noise ratio): 5.5 BER (Bit Error Rate): 0.194\n",
            "SNR (Signal to noise ratio): 6.0 BER (Bit Error Rate): 0.14\n",
            "SNR (Signal to noise ratio): 6.5 BER (Bit Error Rate): 0.12933333333333333\n",
            "SNR (Signal to noise ratio): 7.0 BER (Bit Error Rate): 0.1\n",
            "SNR (Signal to noise ratio): 7.5 BER (Bit Error Rate): 0.06733333333333333\n",
            "SNR (Signal to noise ratio): 8.0 BER (Bit Error Rate): 0.04933333333333333\n",
            "SNR (Signal to noise ratio): 8.5 BER (Bit Error Rate): 0.023333333333333334\n",
            "SNR (Signal to noise ratio): 9.0 BER (Bit Error Rate): 0.02266666666666667\n",
            "SNR (Signal to noise ratio): 9.5 BER (Bit Error Rate): 0.01\n",
            "SNR (Signal to noise ratio): 10.0 BER (Bit Error Rate): 0.008666666666666666\n",
            "SNR (Signal to noise ratio): 10.5 BER (Bit Error Rate): 0.002\n",
            "SNR (Signal to noise ratio): 11.0 BER (Bit Error Rate): 0.006\n",
            "SNR (Signal to noise ratio): 11.5 BER (Bit Error Rate): 0.0\n"
          ]
        }
      ]
    },
    {
      "cell_type": "markdown",
      "source": [
        "# Plot of Bit Error Rate against Range of SNR"
      ],
      "metadata": {
        "id": "4DWbspcUp439"
      }
    },
    {
      "cell_type": "code",
      "source": [
        "\n",
        "plt.plot(SNR_range, BER, 'bo',label='Autoencoder(7,4)')\n",
        "plt.yscale('log')\n",
        "plt.xlabel('SNR Range')\n",
        "plt.ylabel('Block Error Rate')\n",
        "plt.grid()\n",
        "plt.legend(loc='upper right',ncol = 1)"
      ],
      "metadata": {
        "colab": {
          "base_uri": "https://localhost:8080/",
          "height": 301
        },
        "id": "GrswTvJod9Xs",
        "outputId": "595c77f6-d50f-4932-dbb4-fb795c5b09cb"
      },
      "execution_count": 20,
      "outputs": [
        {
          "output_type": "execute_result",
          "data": {
            "text/plain": [
              "<matplotlib.legend.Legend at 0x7f3d4a2d6a50>"
            ]
          },
          "metadata": {},
          "execution_count": 20
        },
        {
          "output_type": "display_data",
          "data": {
            "text/plain": [
              "<Figure size 432x288 with 1 Axes>"
            ],
            "image/png": "[encoded data removed]"
          },
          "metadata": {
            "needs_background": "light"
          }
        }
      ]
    }
  ]
}